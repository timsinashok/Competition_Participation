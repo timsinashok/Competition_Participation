{
 "cells": [
  {
   "cell_type": "markdown",
   "id": "626a022d-5469-4e2c-aba7-c6b00be60b54",
   "metadata": {},
   "source": [
    "# Level 1: Rice Crop Discovery Tool Benchmark Notebook"
   ]
  },
  {
   "cell_type": "markdown",
   "id": "ccfd5ecb-92da-4356-860f-64cec7534b45",
   "metadata": {},
   "source": [
    "## Challenge Level 1 Overview"
   ]
  },
  {
   "cell_type": "markdown",
   "id": "e854b5f4-ee16-40da-a6d1-81898cc52aae",
   "metadata": {},
   "source": [
    "<p align=\"justify\">Welcome to the EY Open Science Data Challenge 2023! This challenge consists of two levels – Level 1 and Level 2. This is the Level 1 challenge aimed at participants who are beginners or have intermediate skill sets in data science and programming. The goal of Level 1 is to predict the presence of rice crops at a given location using satellite data. By the time you complete this level, you will have developed a rice crop classification model, which can distinguish between rice and non-rice fields. \n",
    "</p>"
   ]
  },
  {
   "cell_type": "markdown",
   "id": "5f5c6226-0341-48c1-82b6-3fb000064462",
   "metadata": {},
   "source": [
    "<b>Challenge Aim: </b><p align=\"justify\"> <p>"
   ]
  },
  {
   "cell_type": "markdown",
   "id": "8bdd1b29",
   "metadata": {},
   "source": [
    "<p align=\"justify\">In this notebook, we will demonstrate a basic model workflow that can serve as a starting point for the challenge. The basic model has been built to predict rice crops against non-rice crops (which might include forest, other vegetation and water bodies) using features from the Sentinel-1 Radiometrically Terrain Corrected (RTC)  dataset as predictor variables. In this demonstration, we have used two features from the Sentinel-1 dataset, namely VV (Vertical polarization – Vertical polarization) and VH (Vertical polarization – Horizontal polarization) and trained a logistic regression model with these features. We have extracted the VV band and VH band data from the Sentinel-1 dataset for one day (21st March 2020), with an assumption that VV and VH values for this day are representative of VV and VH values for the entire year (2020) for a given location.\n",
    "\n",
    "Most of the functions presented in this notebook were adapted from the <a href=\"https://planetarycomputer.microsoft.com/dataset/sentinel-1-rtc#Example-Notebook\">Sentinel-1-RTC notebook</a> found in the Planetary Computer portal.</p>\n",
    "    \n",
    "<p align=\"justify\"> Please note that this notebook is just a starting point. We have made many assumptions in this notebook that you may think are not best for solving the challenge effectively. You are encouraged to modify these functions, rewrite them, or try an entirely new approach.</p>"
   ]
  },
  {
   "cell_type": "markdown",
   "id": "2cb152d6-21e5-46c6-931d-11e99e6a6798",
   "metadata": {},
   "source": [
    "## Load In Dependencies"
   ]
  },
  {
   "cell_type": "markdown",
   "id": "093dca36-dae9-4b87-9026-7508740cd746",
   "metadata": {},
   "source": [
    "To run this demonstration notebook, you will need to have the following packages imported below installed. This may take some time.  "
   ]
  },
  {
   "cell_type": "markdown",
   "id": "c546caac-b5a5-494f-95e8-19a01e117492",
   "metadata": {},
   "source": [
    "#### Note: Environment setup\n",
    "Running this notebook requires an API key.\n",
    "\n",
    "To use your API key locally, set the environment variable <i><b>PC_SDK_SUBSCRIPTION_KEY</i></b> or use <i><b>planetary_computer.settings.set_subscription_key(<YOUR API Key>)</i></b><br>\n",
    "See <a href=\"https://planetarycomputer.microsoft.com/docs/concepts/sas/#when-an-account-is-needed\">when an account is needed for more </a>, and <a href=\"https://planetarycomputer.microsoft.com/account/request\">request</a> an account if needed."
   ]
  },
  {
   "cell_type": "code",
   "execution_count": null,
   "id": "bf9392a3-7dd4-4f93-8d01-4d050577aede",
   "metadata": {},
   "outputs": [],
   "source": [
    "\n"
   ]
  },
  {
   "cell_type": "code",
   "execution_count": 1,
   "id": "3a03723e-78ae-4150-ba22-e2e485b95cdb",
   "metadata": {},
   "outputs": [],
   "source": [
    "# Supress Warnings\n",
    "import warnings\n",
    "warnings.filterwarnings('ignore')\n",
    "\n",
    "# Visualization\n",
    "\n",
    "import ipyleaflet\n",
    "import matplotlib.pyplot as plt\n",
    "from IPython.display import Image\n",
    "import seaborn as sns\n",
    "\n",
    "# Data Science\n",
    "import numpy as np\n",
    "import pandas as pd\n",
    "\n",
    "# Feature Engineering\n",
    "from sklearn.preprocessing import StandardScaler\n",
    "from sklearn.model_selection import train_test_split, cross_val_score, GridSearchCV\n",
    "\n",
    "# Machine Learning\n",
    "from sklearn.linear_model import LogisticRegression\n",
    "from sklearn.metrics import f1_score, accuracy_score,classification_report,confusion_matrix\n",
    "\n",
    "# Planetary Computer Tools\n",
    "import pystac\n",
    "import pystac_client\n",
    "import odc\n",
    "from pystac_client import Client\n",
    "from pystac.extensions.eo import EOExtension as eo\n",
    "from odc.stac import stac_load\n",
    "import planetary_computer as pc\n",
    "pc.settings.set_subscription_key('b122cfe1eb0a4080b21ea3aec0542a09')\n",
    "\n",
    "# Others\n",
    "import requests\n",
    "import rich.table\n",
    "from itertools import cycle\n",
    "from tqdm import tqdm\n",
    "tqdm.pandas()"
   ]
  },
  {
   "cell_type": "code",
   "execution_count": null,
   "id": "e02cd9b3-ccd8-4755-86a9-89f7e3050c78",
   "metadata": {},
   "outputs": [],
   "source": []
  },
  {
   "cell_type": "markdown",
   "id": "1c268cf6",
   "metadata": {},
   "source": [
    "## Response Variable"
   ]
  },
  {
   "cell_type": "markdown",
   "id": "f80dbf04",
   "metadata": {},
   "source": [
    "Before building the model, we need to load in the rice crop presence data. We have curated for you data from a certain region in Vietnam for the year 2022. The data consists of  geo locations (Latitude and Longitude) with a tag specifying if the crop present in each geo location is rice or not.  "
   ]
  },
  {
   "cell_type": "code",
   "execution_count": 2,
   "id": "0f1da678",
   "metadata": {},
   "outputs": [
    {
     "data": {
      "text/html": [
       "<div>\n",
       "<style scoped>\n",
       "    .dataframe tbody tr th:only-of-type {\n",
       "        vertical-align: middle;\n",
       "    }\n",
       "\n",
       "    .dataframe tbody tr th {\n",
       "        vertical-align: top;\n",
       "    }\n",
       "\n",
       "    .dataframe thead th {\n",
       "        text-align: right;\n",
       "    }\n",
       "</style>\n",
       "<table border=\"1\" class=\"dataframe\">\n",
       "  <thead>\n",
       "    <tr style=\"text-align: right;\">\n",
       "      <th></th>\n",
       "      <th>Latitude and Longitude</th>\n",
       "      <th>Class of Land</th>\n",
       "    </tr>\n",
       "  </thead>\n",
       "  <tbody>\n",
       "    <tr>\n",
       "      <th>0</th>\n",
       "      <td>(10.323727047081501, 105.2516346045924)</td>\n",
       "      <td>Rice</td>\n",
       "    </tr>\n",
       "    <tr>\n",
       "      <th>1</th>\n",
       "      <td>(10.322364360592521, 105.27843410554115)</td>\n",
       "      <td>Rice</td>\n",
       "    </tr>\n",
       "    <tr>\n",
       "      <th>2</th>\n",
       "      <td>(10.321455902933202, 105.25254306225168)</td>\n",
       "      <td>Rice</td>\n",
       "    </tr>\n",
       "    <tr>\n",
       "      <th>3</th>\n",
       "      <td>(10.324181275911162, 105.25118037576274)</td>\n",
       "      <td>Rice</td>\n",
       "    </tr>\n",
       "    <tr>\n",
       "      <th>4</th>\n",
       "      <td>(10.324635504740822, 105.27389181724476)</td>\n",
       "      <td>Rice</td>\n",
       "    </tr>\n",
       "  </tbody>\n",
       "</table>\n",
       "</div>"
      ],
      "text/plain": [
       "                     Latitude and Longitude Class of Land\n",
       "0   (10.323727047081501, 105.2516346045924)          Rice\n",
       "1  (10.322364360592521, 105.27843410554115)          Rice\n",
       "2  (10.321455902933202, 105.25254306225168)          Rice\n",
       "3  (10.324181275911162, 105.25118037576274)          Rice\n",
       "4  (10.324635504740822, 105.27389181724476)          Rice"
      ]
     },
     "execution_count": 2,
     "metadata": {},
     "output_type": "execute_result"
    }
   ],
   "source": [
    "crop_presence_data = pd.read_csv(\"Crop_Location_Data.csv\")\n",
    "crop_presence_data.head()\n"
   ]
  },
  {
   "cell_type": "code",
   "execution_count": 3,
   "id": "f5f27ace-0b6c-436e-9e88-7a679b9f36a2",
   "metadata": {},
   "outputs": [
    {
     "data": {
      "text/plain": [
       "'(10.323727047081501, 105.2516346045924)'"
      ]
     },
     "execution_count": 3,
     "metadata": {},
     "output_type": "execute_result"
    }
   ],
   "source": [
    "crop_presence_data.groupby('Class of Land').head()\n",
    "crop_presence_data[\"Latitude and Longitude\"][0]"
   ]
  },
  {
   "cell_type": "code",
   "execution_count": 4,
   "id": "1b0be16b-718e-4544-8ad6-7bb8335d6215",
   "metadata": {},
   "outputs": [
    {
     "data": {
      "text/plain": [
       "300"
      ]
     },
     "execution_count": 4,
     "metadata": {},
     "output_type": "execute_result"
    }
   ],
   "source": [
    "# We have a balanced data set (50% Rice, 50% Non Rice)\n",
    "crop_presence_data[\"Class of Land\"].value_counts()['Rice']"
   ]
  },
  {
   "cell_type": "markdown",
   "id": "b3b6812c-7137-4873-b4ed-2dcdd470209b",
   "metadata": {},
   "source": [
    "## Predictor Variables"
   ]
  },
  {
   "cell_type": "markdown",
   "id": "1487a9dc-1308-4c05-a69a-ccfe60bc9100",
   "metadata": {},
   "source": [
    "<p align =\"justify\">Now that we have our crop location data, it is time to gather the predictor variables from the Sentinel-1 dataset. For a more in-depth look regarding the Sentinel-1 dataset and how to query it, see the Sentinel-1 <a href=\"https://challenge.ey.com/api/v1/storage/admin-files/6403146221623637-63ca8d537b1fe300146c79d0-Sentinel%201%20Phenology.ipynb/\"> supplementary \n",
    "notebook</a>.\n",
    "    \n",
    "\n",
    "<p align = \"justify\">Sentinel-1 radar data penetrates through the clouds, thus helping us to get the band values with minimal atmospheric attenuation. Band values such as VV and VH help us in distinguishing between the rice and non rice crops. Hence we are choosing VV and VH as predictor variables for this experiment. \n",
    "        \n",
    "<ul>\n",
    "<li>VV - gamma naught values of signal transmitted with vertical polarization and received with vertical polarization with radiometric terrain correction applied.\n",
    "\n",
    "<li>VH - gamma naught values of signal transmitted with vertical polarization and received with horizontal polarization with radiometric terrain correction applied.\n",
    "</ul>"
   ]
  },
  {
   "cell_type": "markdown",
   "id": "04011667-99ae-4820-a635-d8d50f716fe3",
   "metadata": {},
   "source": [
    "<h4 style=\"color:rgb(195, 52, 235)\"><strong>Tip 1</strong></h4>\n",
    "<p align=\"justify\">Participants might explore other combinations of bands from the Sentinel-1 data. For example, you can use mathematical combinations of bands to generate various <a href=\"https://challenge.ey.com/api/v1/storage/admin-files/3868217534768359-63ca8dc8aea56e00146e3489-Comprehensive%20Guide%20-%20Satellite%20Data.docx\">vegetation indices </a> which can then be used as features in your model.\n"
   ]
  },
  {
   "cell_type": "markdown",
   "id": "04e6b0ac-e7eb-4644-9752-397a0657cf3f",
   "metadata": {},
   "source": [
    "### My notes for some background info regarding technical terms and scientific concepts\n",
    "What are some useful bands from teh sentinel 1 data that i can use in my prediction model to classify whether a given location coordinates would be suitable for planting rice or wheat?\n",
    "\n",
    "Some useful bands from the Sentinel-1 data that can be used in a prediction model to classify whether a given location coordinates would be suitable for planting rice or wheat include the VV (vertical transmit/vertical receive) and VH (vertical transmit/horizontal receive) bands, as well as the normalized difference vegetation index (NDVI). Additionally, the backscattering coefficient (sigma0) can provide information about soil moisture levels, which can be used to determine if a given location is suitable for planting."
   ]
  },
  {
   "cell_type": "markdown",
   "id": "ef97cafd-be69-407e-b755-10ab5de6db29",
   "metadata": {},
   "source": [
    "## Question: why is VV or VH band useful for predicting vegetation health\n",
    "\n",
    "The VV and VH bands are useful for predicting vegetation health because they measure the backscattering of the radar signal from the ground. This backscattering is affected by the vegetation in the area, which allows the VV and VH bands to be used to assess the health of the vegetation. Specifically, the higher the backscattering, the healthier the vegetation. Additionally, the VV and VH bands can be combined to generate the normalized difference vegetation index (NDVI), which is a widely used index for determining the health of vegetation.\n",
    "what is backscattering\n",
    "\n",
    "## What is Backscattering\n",
    "\n",
    "Backscattering is the reflection of a wave (such as a radar signal) off an object or surface. The intensity of the backscattered wave is affected by the properties of the object or surface, such as its composition, size, and shape. In the context of radar, backscattering is typically used to measure the reflectivity of the ground, which can be used to assess the health of vegetation in an area."
   ]
  },
  {
   "cell_type": "markdown",
   "id": "2d55cb00-dab3-42b2-980a-fadde7e307a1",
   "metadata": {},
   "source": [
    "## so VV and VH bands are metrics to measure backscattering? \n",
    "Yes, the VV and VH bands are metrics to measure the backscattering of a radar signal from the ground. The higher the backscattering, the healthier the vegetation. Additionally, the VV and VH bands can be combined to generate the normalized difference vegetation index (NDVI), which is a widely used index for determining the health of vegetation.\n",
    "so higher vv and vh values the more suitable for rice planting?\n",
    "\n",
    "Higher VV and VH values can indicate the health of vegetation in an area, which can be an indicator of suitability for planting. However, other factors such as soil moisture levels, temperature, and nutrient availability should also be taken into account when determining suitability for planting."
   ]
  },
  {
   "cell_type": "markdown",
   "id": "850b0daf-33c4-49a1-8622-bdbd4aa5081f",
   "metadata": {},
   "source": [
    "## wjhy is it that the backscattering is low if the soil is not healthy?\n",
    "\n",
    "The backscattering of a radar signal is affected by the composition, size, and shape of the object or surface it is reflecting off of. Soil that is not healthy, such as soil that is dry or compacted, will not reflect the radar signal as well, resulting in a lower backscattering coefficient."
   ]
  },
  {
   "cell_type": "markdown",
   "id": "1869fea6-e9a6-4cd9-bf3d-979d7392218d",
   "metadata": {},
   "source": [
    "## what is the backscattering coefficient?\n",
    "\n",
    "The backscattering coefficient (sigma0) is a measure of the amount of energy that is reflected back from a surface when it is hit by a radar pulse. The backscattering coefficient is used to measure the reflectivity of the ground, which can be used to assess the health of vegetation in an area.\n",
    "is that data different from VV or VH?\n",
    "\n",
    "Yes, the backscattering coefficient (sigma0) is different from the VV and VH bands. The VV and VH bands measure the backscattering of the radar signal from the ground, whereas the sigma0 measures the amount of energy that is reflected back from a surface when it is hit by a radar pulse.\n"
   ]
  },
  {
   "cell_type": "markdown",
   "id": "46b86813-4146-4f13-9de1-de85c3ffb2cf",
   "metadata": {},
   "source": [
    "## how do i calculate the ratio using the VV and VH band values\n",
    "\n",
    "The ratio of the VV and VH bands can be calculated by dividing the VV band value by the VH band value. For example, if the VV band value is 0.8 and the VH band value is 0.6, then the ratio would be 0.8/0.6 = 1.33. This ratio can then be used to calculate the backscattering coefficient (sigma0).\n",
    "\n",
    "## the higher the better indication of healthy soil?\n",
    "\n",
    "Yes, the higher the backscattering coefficient (sigma0), the better the indication of healthy soil. Generally, a higher sigma0 indicates more reflective surfaces and vegetation in the area, which can indicate healthier soil."
   ]
  },
  {
   "cell_type": "markdown",
   "id": "a48b77de-c005-4e70-ae24-81185eb34563",
   "metadata": {},
   "source": [
    "## Then in the sentinel 1 dataset what are useful data sets we can use for this project\n",
    "\n",
    "The Sentinel-1 dataset contains multiple bands that can be used for this project, including the VV (vertical transmit/vertical receive) and VH (vertical transmit/horizontal receive) bands, as well as the normalized difference vegetation index (NDVI). Additionally, the backscattering coefficient (sigma0) can provide information about soil moisture levels, which can be used to determine if a given location is suitable for planting."
   ]
  },
  {
   "cell_type": "markdown",
   "id": "c87f004c-0407-4320-a688-646774066d88",
   "metadata": {},
   "source": [
    "## so if the energy reflected is higher it means the plant or soil did not absorb?\n",
    "\n",
    "Yes, a higher backscattering coefficient (sigma0) indicates that the energy reflected back from the surface was not absorbed by the plant or soil. This can be used to assess the health of vegetation in an area.\n",
    "\n",
    "## why is less absorption of energy mean healthy vegetation?\n",
    "\n",
    "Less absorption of energy by the vegetation or soil indicates that the surface is reflective, which means that the vegetation is healthy. Healthy vegetation typically has a higher reflectivity, as it is able to absorb more energy from the sun, which is reflected back into the atmosphere."
   ]
  },
  {
   "cell_type": "markdown",
   "id": "8b8eca07-e642-4fe0-a70b-9f1c496c966a",
   "metadata": {},
   "source": [
    "### Useful Predicitive Variables to consider using in model: \n",
    "\n",
    "1. VV and VH bands to measure backscattering means healthy soil\n",
    "2. NDVI assess health of vegetaion in an area\n",
    "3. Backscattering coefficient or sigma measures amount of energy that is reflected back from a surface when hit on a radar pulse"
   ]
  },
  {
   "cell_type": "markdown",
   "id": "c878b3f0-84e3-4bc4-92ea-26da5cde1b46",
   "metadata": {},
   "source": [
    "### About the Data"
   ]
  },
  {
   "cell_type": "markdown",
   "id": "0c85257f-4a48-49e8-8036-10e9a6b69894",
   "metadata": {},
   "source": [
    "### Accessing the Sentinel-1 Data"
   ]
  },
  {
   "cell_type": "markdown",
   "id": "5399737c-46bb-44b7-bda8-4253c827e66d",
   "metadata": {},
   "source": [
    "<p align = \"Justify\">To get the Sentinel-1 data, we write a function called <i><b>get_sentinel_data.</b></i> This function will fetch VV and VH band values for a particular location over the specified time window. In this example, we have extracted VV and VH values for a day (21st March 2020). </p> \n",
    "#change this to multiple time period"
   ]
  },
  {
   "cell_type": "markdown",
   "id": "87f85d6d-6c72-438b-81f8-8aafb1265b0a",
   "metadata": {},
   "source": [
    "<h4 style=\"color:rgb(195, 52, 235)\"><strong>Tip 2</strong></h4>\n",
    "<p align=\"justify\"> Extract VV and VH band values for an entire year. Different land classes (e.g., agriculture, water, urban) will have different annual variability. This variability will be better than a single date for accurately identifying land classes. Please find below a demonstration of extracting data for a day (21st March 2020)."
   ]
  },
  {
   "cell_type": "code",
   "execution_count": 8,
   "id": "5e339a34-cfa7-4899-9165-63ca7c01bbb9",
   "metadata": {},
   "outputs": [],
   "source": [
    "def get_sentinel_data(latlong,time_slice,assets):\n",
    "    '''\n",
    "    Returns VV and VH values for a given latitude and longitude \n",
    "    Attributes:\n",
    "    latlong - A tuple with 2 elements - latitude and longitude\n",
    "    time_slice - Timeframe for which the VV and VH values have to be extracted\n",
    "    assets - A list of bands to be extracted\n",
    "    '''\n",
    "    square_val = 0.00025\n",
    "\n",
    "    latlong=latlong.replace('(','').replace(')','').replace(' ','').split(',')\n",
    "    bbox_of_interest = (float(latlong[1])-square_val , float(latlong[0])-square_val, float(latlong[1])+square_val , float(latlong[0])+square_val)\n",
    "    time_of_interest = time_slice\n",
    "\n",
    "    catalog = pystac_client.Client.open(\n",
    "        'https://planetarycomputer.microsoft.com/api/stac/v1'\n",
    "        \n",
    "    )\n",
    "    search = catalog.search(\n",
    "        collections=[\"sentinel-1-rtc\"], bbox=bbox_of_interest, datetime=time_of_interest\n",
    "    )\n",
    "    items = list(search.get_all_items())\n",
    "    bands_of_interest = assests\n",
    "    data = stac_load([items[0]], patch_url=pc.sign, bbox=bbox_of_interest).isel(time=0)\n",
    "    vh = data[\"vh\"].astype(\"float\").values.tolist()[0][0]\n",
    "    vv = data[\"vv\"].astype(\"float\").values.tolist()[0][0]\n",
    "    return vh,vv"
   ]
  },
  {
   "cell_type": "markdown",
   "id": "caab9734-6cdf-466f-87c3-8067b05b90ba",
   "metadata": {},
   "source": [
    "<h4 style=\"color:rgb(195, 52, 235)\"><strong>Tip 3 </strong></h4>"
   ]
  },
  {
   "cell_type": "markdown",
   "id": "0cdb9b25-0c41-4f55-aa33-082adeb34dbd",
   "metadata": {},
   "source": [
    "Explore the approach of building a bounding box (e.g., 5x5 pixels) around the given latitude and longitude positions and then extract the aggregated band values (e.g., average, median) to get normalized band values to build the model. Radar data has inherent variability at the pixel level due to variable scattering response from the target. This effect is called “speckle” and it is common to filter the data to smooth these variations. Try using a 3x3, 5x5 or 7x7 window around the specific latitude and longitude point to get improved results."
   ]
  },
  {
   "cell_type": "code",
   "execution_count": 9,
   "id": "51b11865-151b-4edc-8db9-99787768d2a6",
   "metadata": {},
   "outputs": [],
   "source": [
    "import dateutil.parser"
   ]
  },
  {
   "cell_type": "code",
   "execution_count": 10,
   "id": "4c51cd6e-41e2-4df4-ae07-349be861f0f0",
   "metadata": {},
   "outputs": [
    {
     "name": "stderr",
     "output_type": "stream",
     "text": [
      "100%|█████████████████████████████████████████| 600/600 [07:24<00:00,  1.35it/s]\n"
     ]
    }
   ],
   "source": [
    "\n",
    "## Function call to extract VV,VH Values\n",
    "\n",
    "\n",
    "time_slice = \"2020-02-20/2020-03-21\"\n",
    "assests = ['vh','vv']\n",
    "vh_vv = []\n",
    "for coordinates in tqdm(crop_presence_data['Latitude and Longitude']):\n",
    "    vh_vv.append(get_sentinel_data(coordinates,time_slice,assests))\n",
    "vh_vv_data = pd.DataFrame(vh_vv,columns =['vh','vv'])"
   ]
  },
  {
   "cell_type": "markdown",
   "id": "aa872546-7567-418c-af04-1d8b4fa5bd60",
   "metadata": {},
   "source": [
    "## Joining the predictor variables and response variables\n",
    "Now that we have extracted our predictor variables, we need to join them onto the response variable . We use the function <i><b>combine_two_datasets</b></i> to combine the predictor variables and response variables.The <i><b>concat</b></i> function from pandas comes in handy here."
   ]
  },
  {
   "cell_type": "code",
   "execution_count": 5,
   "id": "176c369b-c88d-4ae9-877c-f8a78971e67c",
   "metadata": {},
   "outputs": [],
   "source": [
    "def get_data(latlong,time_slice,assets):\n",
    "    '''\n",
    "    Returns VV and VH values for a given latitude and longitude \n",
    "    Attributes:\n",
    "    latlong - A tuple with 2 elements - latitude and longitude\n",
    "    time_slice - Timeframe for which the VV and VH values have to be extracted\n",
    "    assets - A list of bands to be extracted\n",
    "    '''\n",
    "    square_val = 0.00025\n",
    "\n",
    "    latlong=latlong.replace('(','').replace(')','').replace(' ','').split(',')\n",
    "    bbox_of_interest = (float(latlong[1])-square_val , float(latlong[0])-square_val, float(latlong[1])+square_val , float(latlong[0])+square_val)\n",
    "    time_of_interest = time_slice\n",
    "\n",
    "    catalog = pystac_client.Client.open(\n",
    "        'https://planetarycomputer.microsoft.com/api/stac/v1'\n",
    "        \n",
    "    )\n",
    "    search = catalog.search(\n",
    "        collections=[\"sentinel-1-rtc\"], bbox=bbox_of_interest, datetime=time_of_interest\n",
    "    )\n",
    "    items = list(search.get_all_items())\n",
    "    bands_of_interest = assests\n",
    "    data = stac_load([items[0]], patch_url=pc.sign, bbox=bbox_of_interest).isel(time=0)\n",
    "    return data"
   ]
  },
  {
   "cell_type": "code",
   "execution_count": 6,
   "id": "73d81197-8252-4292-a5d5-cbc0e43c700d",
   "metadata": {},
   "outputs": [
    {
     "name": "stderr",
     "output_type": "stream",
     "text": [
      "100%|█████████████████████████████████████████| 600/600 [07:08<00:00,  1.40it/s]\n"
     ]
    }
   ],
   "source": [
    "n = 1\n",
    "\n",
    "time_slice = \"2020-02-20/2020-03-21\"\n",
    "assests = ['vh','vv']\n",
    "vh_vv_rvi = []\n",
    "\n",
    "for coordinates in tqdm(crop_presence_data['Latitude and Longitude']):\n",
    "    data = get_data(coordinates,time_slice,assests)\n",
    "    mean = data.mean().compute()\n",
    "    dop = (mean.vv / (mean.vv + mean.vh))\n",
    "    m = 1 - dop\n",
    "    rvi = (np.sqrt(dop))*((4*mean.vh)/(mean.vv + mean.vh))\n",
    "    vh_vv_rvi.append([mean.vv.values, mean.vh.values, rvi.values])\n",
    "vh_vv_rvi_data = pd.DataFrame(vh_vv_rvi,columns =['vh','vv', 'rvi'])"
   ]
  },
  {
   "cell_type": "code",
   "execution_count": 8,
   "id": "81b67e40-08dc-499d-be7d-32de7657dc35",
   "metadata": {},
   "outputs": [
    {
     "data": {
      "text/html": [
       "<div>\n",
       "<style scoped>\n",
       "    .dataframe tbody tr th:only-of-type {\n",
       "        vertical-align: middle;\n",
       "    }\n",
       "\n",
       "    .dataframe tbody tr th {\n",
       "        vertical-align: top;\n",
       "    }\n",
       "\n",
       "    .dataframe thead th {\n",
       "        text-align: right;\n",
       "    }\n",
       "</style>\n",
       "<table border=\"1\" class=\"dataframe\">\n",
       "  <thead>\n",
       "    <tr style=\"text-align: right;\">\n",
       "      <th></th>\n",
       "      <th>vh</th>\n",
       "      <th>vv</th>\n",
       "      <th>rvi</th>\n",
       "    </tr>\n",
       "  </thead>\n",
       "  <tbody>\n",
       "    <tr>\n",
       "      <th>0</th>\n",
       "      <td>0.20758393</td>\n",
       "      <td>0.06232412</td>\n",
       "      <td>0.8100078204238705</td>\n",
       "    </tr>\n",
       "    <tr>\n",
       "      <th>1</th>\n",
       "      <td>0.15551779</td>\n",
       "      <td>0.03757794</td>\n",
       "      <td>0.6985925867387248</td>\n",
       "    </tr>\n",
       "    <tr>\n",
       "      <th>2</th>\n",
       "      <td>0.21735105</td>\n",
       "      <td>0.04275458</td>\n",
       "      <td>0.6010337436495468</td>\n",
       "    </tr>\n",
       "    <tr>\n",
       "      <th>3</th>\n",
       "      <td>0.16330516</td>\n",
       "      <td>0.03154174</td>\n",
       "      <td>0.5927960744431653</td>\n",
       "    </tr>\n",
       "    <tr>\n",
       "      <th>4</th>\n",
       "      <td>0.2314578</td>\n",
       "      <td>0.03876194</td>\n",
       "      <td>0.5310382211650145</td>\n",
       "    </tr>\n",
       "    <tr>\n",
       "      <th>...</th>\n",
       "      <td>...</td>\n",
       "      <td>...</td>\n",
       "      <td>...</td>\n",
       "    </tr>\n",
       "    <tr>\n",
       "      <th>595</th>\n",
       "      <td>0.19289711</td>\n",
       "      <td>0.050605137</td>\n",
       "      <td>0.7398829233646299</td>\n",
       "    </tr>\n",
       "    <tr>\n",
       "      <th>596</th>\n",
       "      <td>0.26415795</td>\n",
       "      <td>0.054577384</td>\n",
       "      <td>0.6235327090934485</td>\n",
       "    </tr>\n",
       "    <tr>\n",
       "      <th>597</th>\n",
       "      <td>0.32137352</td>\n",
       "      <td>0.067015804</td>\n",
       "      <td>0.6278289731235115</td>\n",
       "    </tr>\n",
       "    <tr>\n",
       "      <th>598</th>\n",
       "      <td>0.2864713</td>\n",
       "      <td>0.071513124</td>\n",
       "      <td>0.7148091780346641</td>\n",
       "    </tr>\n",
       "    <tr>\n",
       "      <th>599</th>\n",
       "      <td>0.2470215</td>\n",
       "      <td>0.05908098</td>\n",
       "      <td>0.6935451890519234</td>\n",
       "    </tr>\n",
       "  </tbody>\n",
       "</table>\n",
       "<p>600 rows × 3 columns</p>\n",
       "</div>"
      ],
      "text/plain": [
       "             vh           vv                 rvi\n",
       "0    0.20758393   0.06232412  0.8100078204238705\n",
       "1    0.15551779   0.03757794  0.6985925867387248\n",
       "2    0.21735105   0.04275458  0.6010337436495468\n",
       "3    0.16330516   0.03154174  0.5927960744431653\n",
       "4     0.2314578   0.03876194  0.5310382211650145\n",
       "..          ...          ...                 ...\n",
       "595  0.19289711  0.050605137  0.7398829233646299\n",
       "596  0.26415795  0.054577384  0.6235327090934485\n",
       "597  0.32137352  0.067015804  0.6278289731235115\n",
       "598   0.2864713  0.071513124  0.7148091780346641\n",
       "599   0.2470215   0.05908098  0.6935451890519234\n",
       "\n",
       "[600 rows x 3 columns]"
      ]
     },
     "execution_count": 8,
     "metadata": {},
     "output_type": "execute_result"
    }
   ],
   "source": [
    "vh_vv_rvi_data"
   ]
  },
  {
   "cell_type": "code",
   "execution_count": 8,
   "id": "d8fcd442-b304-49c3-b2a4-8943c206f767",
   "metadata": {},
   "outputs": [
    {
     "data": {
      "text/plain": [
       "xarray.core.dataset.Dataset"
      ]
     },
     "execution_count": 8,
     "metadata": {},
     "output_type": "execute_result"
    }
   ],
   "source": [
    "type(data)"
   ]
  },
  {
   "cell_type": "code",
   "execution_count": 9,
   "id": "d46ba099-671d-4b0e-82f0-75ff1a79a3d7",
   "metadata": {},
   "outputs": [
    {
     "data": {
      "text/html": [
       "<div>\n",
       "<style scoped>\n",
       "    .dataframe tbody tr th:only-of-type {\n",
       "        vertical-align: middle;\n",
       "    }\n",
       "\n",
       "    .dataframe tbody tr th {\n",
       "        vertical-align: top;\n",
       "    }\n",
       "\n",
       "    .dataframe thead th {\n",
       "        text-align: right;\n",
       "    }\n",
       "</style>\n",
       "<table border=\"1\" class=\"dataframe\">\n",
       "  <thead>\n",
       "    <tr style=\"text-align: right;\">\n",
       "      <th></th>\n",
       "      <th></th>\n",
       "      <th>spatial_ref</th>\n",
       "      <th>time</th>\n",
       "      <th>vh</th>\n",
       "      <th>vv</th>\n",
       "    </tr>\n",
       "    <tr>\n",
       "      <th>y</th>\n",
       "      <th>x</th>\n",
       "      <th></th>\n",
       "      <th></th>\n",
       "      <th></th>\n",
       "      <th></th>\n",
       "    </tr>\n",
       "  </thead>\n",
       "  <tbody>\n",
       "    <tr>\n",
       "      <th rowspan=\"6\" valign=\"top\">1141245.0</th>\n",
       "      <th>527525.0</th>\n",
       "      <td>32648</td>\n",
       "      <td>2020-03-21 11:11:40.411220</td>\n",
       "      <td>0.041119</td>\n",
       "      <td>0.251806</td>\n",
       "    </tr>\n",
       "    <tr>\n",
       "      <th>527535.0</th>\n",
       "      <td>32648</td>\n",
       "      <td>2020-03-21 11:11:40.411220</td>\n",
       "      <td>0.046050</td>\n",
       "      <td>0.367144</td>\n",
       "    </tr>\n",
       "    <tr>\n",
       "      <th>527545.0</th>\n",
       "      <td>32648</td>\n",
       "      <td>2020-03-21 11:11:40.411220</td>\n",
       "      <td>0.050608</td>\n",
       "      <td>0.323299</td>\n",
       "    </tr>\n",
       "    <tr>\n",
       "      <th>527555.0</th>\n",
       "      <td>32648</td>\n",
       "      <td>2020-03-21 11:11:40.411220</td>\n",
       "      <td>0.069238</td>\n",
       "      <td>0.203891</td>\n",
       "    </tr>\n",
       "    <tr>\n",
       "      <th>527565.0</th>\n",
       "      <td>32648</td>\n",
       "      <td>2020-03-21 11:11:40.411220</td>\n",
       "      <td>0.085067</td>\n",
       "      <td>0.148480</td>\n",
       "    </tr>\n",
       "    <tr>\n",
       "      <th>527575.0</th>\n",
       "      <td>32648</td>\n",
       "      <td>2020-03-21 11:11:40.411220</td>\n",
       "      <td>0.092893</td>\n",
       "      <td>0.173268</td>\n",
       "    </tr>\n",
       "    <tr>\n",
       "      <th rowspan=\"6\" valign=\"top\">1141235.0</th>\n",
       "      <th>527525.0</th>\n",
       "      <td>32648</td>\n",
       "      <td>2020-03-21 11:11:40.411220</td>\n",
       "      <td>0.043877</td>\n",
       "      <td>0.127348</td>\n",
       "    </tr>\n",
       "    <tr>\n",
       "      <th>527535.0</th>\n",
       "      <td>32648</td>\n",
       "      <td>2020-03-21 11:11:40.411220</td>\n",
       "      <td>0.053948</td>\n",
       "      <td>0.219720</td>\n",
       "    </tr>\n",
       "    <tr>\n",
       "      <th>527545.0</th>\n",
       "      <td>32648</td>\n",
       "      <td>2020-03-21 11:11:40.411220</td>\n",
       "      <td>0.046663</td>\n",
       "      <td>0.211819</td>\n",
       "    </tr>\n",
       "    <tr>\n",
       "      <th>527555.0</th>\n",
       "      <td>32648</td>\n",
       "      <td>2020-03-21 11:11:40.411220</td>\n",
       "      <td>0.062405</td>\n",
       "      <td>0.135082</td>\n",
       "    </tr>\n",
       "    <tr>\n",
       "      <th>527565.0</th>\n",
       "      <td>32648</td>\n",
       "      <td>2020-03-21 11:11:40.411220</td>\n",
       "      <td>0.065699</td>\n",
       "      <td>0.108546</td>\n",
       "    </tr>\n",
       "    <tr>\n",
       "      <th>527575.0</th>\n",
       "      <td>32648</td>\n",
       "      <td>2020-03-21 11:11:40.411220</td>\n",
       "      <td>0.066923</td>\n",
       "      <td>0.245254</td>\n",
       "    </tr>\n",
       "    <tr>\n",
       "      <th rowspan=\"6\" valign=\"top\">1141225.0</th>\n",
       "      <th>527525.0</th>\n",
       "      <td>32648</td>\n",
       "      <td>2020-03-21 11:11:40.411220</td>\n",
       "      <td>0.025806</td>\n",
       "      <td>0.179919</td>\n",
       "    </tr>\n",
       "    <tr>\n",
       "      <th>527535.0</th>\n",
       "      <td>32648</td>\n",
       "      <td>2020-03-21 11:11:40.411220</td>\n",
       "      <td>0.043007</td>\n",
       "      <td>0.266566</td>\n",
       "    </tr>\n",
       "    <tr>\n",
       "      <th>527545.0</th>\n",
       "      <td>32648</td>\n",
       "      <td>2020-03-21 11:11:40.411220</td>\n",
       "      <td>0.056330</td>\n",
       "      <td>0.228188</td>\n",
       "    </tr>\n",
       "    <tr>\n",
       "      <th>527555.0</th>\n",
       "      <td>32648</td>\n",
       "      <td>2020-03-21 11:11:40.411220</td>\n",
       "      <td>0.066411</td>\n",
       "      <td>0.135568</td>\n",
       "    </tr>\n",
       "    <tr>\n",
       "      <th>527565.0</th>\n",
       "      <td>32648</td>\n",
       "      <td>2020-03-21 11:11:40.411220</td>\n",
       "      <td>0.057439</td>\n",
       "      <td>0.117132</td>\n",
       "    </tr>\n",
       "    <tr>\n",
       "      <th>527575.0</th>\n",
       "      <td>32648</td>\n",
       "      <td>2020-03-21 11:11:40.411220</td>\n",
       "      <td>0.065794</td>\n",
       "      <td>0.233281</td>\n",
       "    </tr>\n",
       "    <tr>\n",
       "      <th rowspan=\"6\" valign=\"top\">1141215.0</th>\n",
       "      <th>527525.0</th>\n",
       "      <td>32648</td>\n",
       "      <td>2020-03-21 11:11:40.411220</td>\n",
       "      <td>0.024852</td>\n",
       "      <td>0.176314</td>\n",
       "    </tr>\n",
       "    <tr>\n",
       "      <th>527535.0</th>\n",
       "      <td>32648</td>\n",
       "      <td>2020-03-21 11:11:40.411220</td>\n",
       "      <td>0.036740</td>\n",
       "      <td>0.198917</td>\n",
       "    </tr>\n",
       "    <tr>\n",
       "      <th>527545.0</th>\n",
       "      <td>32648</td>\n",
       "      <td>2020-03-21 11:11:40.411220</td>\n",
       "      <td>0.055557</td>\n",
       "      <td>0.161107</td>\n",
       "    </tr>\n",
       "    <tr>\n",
       "      <th>527555.0</th>\n",
       "      <td>32648</td>\n",
       "      <td>2020-03-21 11:11:40.411220</td>\n",
       "      <td>0.065339</td>\n",
       "      <td>0.137559</td>\n",
       "    </tr>\n",
       "    <tr>\n",
       "      <th>527565.0</th>\n",
       "      <td>32648</td>\n",
       "      <td>2020-03-21 11:11:40.411220</td>\n",
       "      <td>0.058402</td>\n",
       "      <td>0.147661</td>\n",
       "    </tr>\n",
       "    <tr>\n",
       "      <th>527575.0</th>\n",
       "      <td>32648</td>\n",
       "      <td>2020-03-21 11:11:40.411220</td>\n",
       "      <td>0.058349</td>\n",
       "      <td>0.176253</td>\n",
       "    </tr>\n",
       "    <tr>\n",
       "      <th rowspan=\"6\" valign=\"top\">1141205.0</th>\n",
       "      <th>527525.0</th>\n",
       "      <td>32648</td>\n",
       "      <td>2020-03-21 11:11:40.411220</td>\n",
       "      <td>0.032149</td>\n",
       "      <td>0.138529</td>\n",
       "    </tr>\n",
       "    <tr>\n",
       "      <th>527535.0</th>\n",
       "      <td>32648</td>\n",
       "      <td>2020-03-21 11:11:40.411220</td>\n",
       "      <td>0.038500</td>\n",
       "      <td>0.120950</td>\n",
       "    </tr>\n",
       "    <tr>\n",
       "      <th>527545.0</th>\n",
       "      <td>32648</td>\n",
       "      <td>2020-03-21 11:11:40.411220</td>\n",
       "      <td>0.041293</td>\n",
       "      <td>0.114049</td>\n",
       "    </tr>\n",
       "    <tr>\n",
       "      <th>527555.0</th>\n",
       "      <td>32648</td>\n",
       "      <td>2020-03-21 11:11:40.411220</td>\n",
       "      <td>0.059691</td>\n",
       "      <td>0.176895</td>\n",
       "    </tr>\n",
       "    <tr>\n",
       "      <th>527565.0</th>\n",
       "      <td>32648</td>\n",
       "      <td>2020-03-21 11:11:40.411220</td>\n",
       "      <td>0.080693</td>\n",
       "      <td>0.220665</td>\n",
       "    </tr>\n",
       "    <tr>\n",
       "      <th>527575.0</th>\n",
       "      <td>32648</td>\n",
       "      <td>2020-03-21 11:11:40.411220</td>\n",
       "      <td>0.057985</td>\n",
       "      <td>0.247091</td>\n",
       "    </tr>\n",
       "    <tr>\n",
       "      <th rowspan=\"6\" valign=\"top\">1141195.0</th>\n",
       "      <th>527525.0</th>\n",
       "      <td>32648</td>\n",
       "      <td>2020-03-21 11:11:40.411220</td>\n",
       "      <td>0.024517</td>\n",
       "      <td>0.130036</td>\n",
       "    </tr>\n",
       "    <tr>\n",
       "      <th>527535.0</th>\n",
       "      <td>32648</td>\n",
       "      <td>2020-03-21 11:11:40.411220</td>\n",
       "      <td>0.026459</td>\n",
       "      <td>0.202118</td>\n",
       "    </tr>\n",
       "    <tr>\n",
       "      <th>527545.0</th>\n",
       "      <td>32648</td>\n",
       "      <td>2020-03-21 11:11:40.411220</td>\n",
       "      <td>0.028247</td>\n",
       "      <td>0.226293</td>\n",
       "    </tr>\n",
       "    <tr>\n",
       "      <th>527555.0</th>\n",
       "      <td>32648</td>\n",
       "      <td>2020-03-21 11:11:40.411220</td>\n",
       "      <td>0.069687</td>\n",
       "      <td>0.232291</td>\n",
       "    </tr>\n",
       "    <tr>\n",
       "      <th>527565.0</th>\n",
       "      <td>32648</td>\n",
       "      <td>2020-03-21 11:11:40.411220</td>\n",
       "      <td>0.152509</td>\n",
       "      <td>0.274492</td>\n",
       "    </tr>\n",
       "    <tr>\n",
       "      <th>527575.0</th>\n",
       "      <td>32648</td>\n",
       "      <td>2020-03-21 11:11:40.411220</td>\n",
       "      <td>0.107476</td>\n",
       "      <td>0.356364</td>\n",
       "    </tr>\n",
       "    <tr>\n",
       "      <th rowspan=\"6\" valign=\"top\">1141185.0</th>\n",
       "      <th>527525.0</th>\n",
       "      <td>32648</td>\n",
       "      <td>2020-03-21 11:11:40.411220</td>\n",
       "      <td>0.019553</td>\n",
       "      <td>0.161752</td>\n",
       "    </tr>\n",
       "    <tr>\n",
       "      <th>527535.0</th>\n",
       "      <td>32648</td>\n",
       "      <td>2020-03-21 11:11:40.411220</td>\n",
       "      <td>0.017543</td>\n",
       "      <td>0.285918</td>\n",
       "    </tr>\n",
       "    <tr>\n",
       "      <th>527545.0</th>\n",
       "      <td>32648</td>\n",
       "      <td>2020-03-21 11:11:40.411220</td>\n",
       "      <td>0.026878</td>\n",
       "      <td>0.292075</td>\n",
       "    </tr>\n",
       "    <tr>\n",
       "      <th>527555.0</th>\n",
       "      <td>32648</td>\n",
       "      <td>2020-03-21 11:11:40.411220</td>\n",
       "      <td>0.111593</td>\n",
       "      <td>0.234986</td>\n",
       "    </tr>\n",
       "    <tr>\n",
       "      <th>527565.0</th>\n",
       "      <td>32648</td>\n",
       "      <td>2020-03-21 11:11:40.411220</td>\n",
       "      <td>0.224140</td>\n",
       "      <td>0.287953</td>\n",
       "    </tr>\n",
       "    <tr>\n",
       "      <th>527575.0</th>\n",
       "      <td>32648</td>\n",
       "      <td>2020-03-21 11:11:40.411220</td>\n",
       "      <td>0.160185</td>\n",
       "      <td>0.341944</td>\n",
       "    </tr>\n",
       "  </tbody>\n",
       "</table>\n",
       "</div>"
      ],
      "text/plain": [
       "                    spatial_ref                       time        vh        vv\n",
       "y         x                                                                   \n",
       "1141245.0 527525.0        32648 2020-03-21 11:11:40.411220  0.041119  0.251806\n",
       "          527535.0        32648 2020-03-21 11:11:40.411220  0.046050  0.367144\n",
       "          527545.0        32648 2020-03-21 11:11:40.411220  0.050608  0.323299\n",
       "          527555.0        32648 2020-03-21 11:11:40.411220  0.069238  0.203891\n",
       "          527565.0        32648 2020-03-21 11:11:40.411220  0.085067  0.148480\n",
       "          527575.0        32648 2020-03-21 11:11:40.411220  0.092893  0.173268\n",
       "1141235.0 527525.0        32648 2020-03-21 11:11:40.411220  0.043877  0.127348\n",
       "          527535.0        32648 2020-03-21 11:11:40.411220  0.053948  0.219720\n",
       "          527545.0        32648 2020-03-21 11:11:40.411220  0.046663  0.211819\n",
       "          527555.0        32648 2020-03-21 11:11:40.411220  0.062405  0.135082\n",
       "          527565.0        32648 2020-03-21 11:11:40.411220  0.065699  0.108546\n",
       "          527575.0        32648 2020-03-21 11:11:40.411220  0.066923  0.245254\n",
       "1141225.0 527525.0        32648 2020-03-21 11:11:40.411220  0.025806  0.179919\n",
       "          527535.0        32648 2020-03-21 11:11:40.411220  0.043007  0.266566\n",
       "          527545.0        32648 2020-03-21 11:11:40.411220  0.056330  0.228188\n",
       "          527555.0        32648 2020-03-21 11:11:40.411220  0.066411  0.135568\n",
       "          527565.0        32648 2020-03-21 11:11:40.411220  0.057439  0.117132\n",
       "          527575.0        32648 2020-03-21 11:11:40.411220  0.065794  0.233281\n",
       "1141215.0 527525.0        32648 2020-03-21 11:11:40.411220  0.024852  0.176314\n",
       "          527535.0        32648 2020-03-21 11:11:40.411220  0.036740  0.198917\n",
       "          527545.0        32648 2020-03-21 11:11:40.411220  0.055557  0.161107\n",
       "          527555.0        32648 2020-03-21 11:11:40.411220  0.065339  0.137559\n",
       "          527565.0        32648 2020-03-21 11:11:40.411220  0.058402  0.147661\n",
       "          527575.0        32648 2020-03-21 11:11:40.411220  0.058349  0.176253\n",
       "1141205.0 527525.0        32648 2020-03-21 11:11:40.411220  0.032149  0.138529\n",
       "          527535.0        32648 2020-03-21 11:11:40.411220  0.038500  0.120950\n",
       "          527545.0        32648 2020-03-21 11:11:40.411220  0.041293  0.114049\n",
       "          527555.0        32648 2020-03-21 11:11:40.411220  0.059691  0.176895\n",
       "          527565.0        32648 2020-03-21 11:11:40.411220  0.080693  0.220665\n",
       "          527575.0        32648 2020-03-21 11:11:40.411220  0.057985  0.247091\n",
       "1141195.0 527525.0        32648 2020-03-21 11:11:40.411220  0.024517  0.130036\n",
       "          527535.0        32648 2020-03-21 11:11:40.411220  0.026459  0.202118\n",
       "          527545.0        32648 2020-03-21 11:11:40.411220  0.028247  0.226293\n",
       "          527555.0        32648 2020-03-21 11:11:40.411220  0.069687  0.232291\n",
       "          527565.0        32648 2020-03-21 11:11:40.411220  0.152509  0.274492\n",
       "          527575.0        32648 2020-03-21 11:11:40.411220  0.107476  0.356364\n",
       "1141185.0 527525.0        32648 2020-03-21 11:11:40.411220  0.019553  0.161752\n",
       "          527535.0        32648 2020-03-21 11:11:40.411220  0.017543  0.285918\n",
       "          527545.0        32648 2020-03-21 11:11:40.411220  0.026878  0.292075\n",
       "          527555.0        32648 2020-03-21 11:11:40.411220  0.111593  0.234986\n",
       "          527565.0        32648 2020-03-21 11:11:40.411220  0.224140  0.287953\n",
       "          527575.0        32648 2020-03-21 11:11:40.411220  0.160185  0.341944"
      ]
     },
     "execution_count": 9,
     "metadata": {},
     "output_type": "execute_result"
    }
   ],
   "source": [
    "data.to_dataframe()"
   ]
  },
  {
   "cell_type": "code",
   "execution_count": 27,
   "id": "360f5c13-af18-4536-8139-f33b111e0ca9",
   "metadata": {},
   "outputs": [],
   "source": [
    "vh_vv_data.to_csv('pred_data.csv', index=False)"
   ]
  },
  {
   "cell_type": "code",
   "execution_count": 13,
   "id": "77b68d7d-dc5a-4428-a6f7-274a2576f705",
   "metadata": {},
   "outputs": [
    {
     "data": {
      "text/plain": [
       "(600, 2)"
      ]
     },
     "execution_count": 13,
     "metadata": {},
     "output_type": "execute_result"
    }
   ],
   "source": [
    "vh_vv_data.shape"
   ]
  },
  {
   "cell_type": "code",
   "execution_count": 28,
   "id": "5190bd8f-599f-4d96-9d07-e6743caf8291",
   "metadata": {},
   "outputs": [
    {
     "data": {
      "text/html": [
       "<div>\n",
       "<style scoped>\n",
       "    .dataframe tbody tr th:only-of-type {\n",
       "        vertical-align: middle;\n",
       "    }\n",
       "\n",
       "    .dataframe tbody tr th {\n",
       "        vertical-align: top;\n",
       "    }\n",
       "\n",
       "    .dataframe thead th {\n",
       "        text-align: right;\n",
       "    }\n",
       "</style>\n",
       "<table border=\"1\" class=\"dataframe\">\n",
       "  <thead>\n",
       "    <tr style=\"text-align: right;\">\n",
       "      <th></th>\n",
       "      <th>vh</th>\n",
       "      <th>vv</th>\n",
       "    </tr>\n",
       "  </thead>\n",
       "  <tbody>\n",
       "    <tr>\n",
       "      <th>0</th>\n",
       "      <td>0.051305</td>\n",
       "      <td>0.507141</td>\n",
       "    </tr>\n",
       "    <tr>\n",
       "      <th>1</th>\n",
       "      <td>0.025675</td>\n",
       "      <td>0.210904</td>\n",
       "    </tr>\n",
       "    <tr>\n",
       "      <th>2</th>\n",
       "      <td>0.017782</td>\n",
       "      <td>0.288333</td>\n",
       "    </tr>\n",
       "    <tr>\n",
       "      <th>3</th>\n",
       "      <td>0.045639</td>\n",
       "      <td>0.325562</td>\n",
       "    </tr>\n",
       "    <tr>\n",
       "      <th>4</th>\n",
       "      <td>0.019222</td>\n",
       "      <td>0.191109</td>\n",
       "    </tr>\n",
       "    <tr>\n",
       "      <th>...</th>\n",
       "      <td>...</td>\n",
       "      <td>...</td>\n",
       "    </tr>\n",
       "    <tr>\n",
       "      <th>595</th>\n",
       "      <td>0.093325</td>\n",
       "      <td>0.114293</td>\n",
       "    </tr>\n",
       "    <tr>\n",
       "      <th>596</th>\n",
       "      <td>0.038517</td>\n",
       "      <td>0.180069</td>\n",
       "    </tr>\n",
       "    <tr>\n",
       "      <th>597</th>\n",
       "      <td>0.056709</td>\n",
       "      <td>0.254847</td>\n",
       "    </tr>\n",
       "    <tr>\n",
       "      <th>598</th>\n",
       "      <td>0.072502</td>\n",
       "      <td>0.110558</td>\n",
       "    </tr>\n",
       "    <tr>\n",
       "      <th>599</th>\n",
       "      <td>0.037270</td>\n",
       "      <td>0.178734</td>\n",
       "    </tr>\n",
       "  </tbody>\n",
       "</table>\n",
       "<p>600 rows × 2 columns</p>\n",
       "</div>"
      ],
      "text/plain": [
       "           vh        vv\n",
       "0    0.051305  0.507141\n",
       "1    0.025675  0.210904\n",
       "2    0.017782  0.288333\n",
       "3    0.045639  0.325562\n",
       "4    0.019222  0.191109\n",
       "..        ...       ...\n",
       "595  0.093325  0.114293\n",
       "596  0.038517  0.180069\n",
       "597  0.056709  0.254847\n",
       "598  0.072502  0.110558\n",
       "599  0.037270  0.178734\n",
       "\n",
       "[600 rows x 2 columns]"
      ]
     },
     "execution_count": 28,
     "metadata": {},
     "output_type": "execute_result"
    }
   ],
   "source": [
    "vh_vv_data"
   ]
  },
  {
   "cell_type": "code",
   "execution_count": 29,
   "id": "a3534526-e195-412c-8f78-47205cf2ff65",
   "metadata": {},
   "outputs": [
    {
     "ename": "FileNotFoundError",
     "evalue": "[Errno 2] No such file or directory: 'data/pred_data.csv'",
     "output_type": "error",
     "traceback": [
      "\u001b[0;31m---------------------------------------------------------------------------\u001b[0m",
      "\u001b[0;31mFileNotFoundError\u001b[0m                         Traceback (most recent call last)",
      "Input \u001b[0;32mIn [29]\u001b[0m, in \u001b[0;36m<cell line: 1>\u001b[0;34m()\u001b[0m\n\u001b[0;32m----> 1\u001b[0m vh_vv_data \u001b[38;5;241m=\u001b[39m \u001b[43mpd\u001b[49m\u001b[38;5;241;43m.\u001b[39;49m\u001b[43mread_csv\u001b[49m\u001b[43m(\u001b[49m\u001b[38;5;124;43m\"\u001b[39;49m\u001b[38;5;124;43mdata/pred_data.csv\u001b[39;49m\u001b[38;5;124;43m\"\u001b[39;49m\u001b[43m)\u001b[49m\n\u001b[1;32m      2\u001b[0m vh_vv_data\u001b[38;5;241m.\u001b[39mhead()\n",
      "File \u001b[0;32m~/anaconda3/lib/python3.9/site-packages/pandas/util/_decorators.py:311\u001b[0m, in \u001b[0;36mdeprecate_nonkeyword_arguments.<locals>.decorate.<locals>.wrapper\u001b[0;34m(*args, **kwargs)\u001b[0m\n\u001b[1;32m    305\u001b[0m \u001b[38;5;28;01mif\u001b[39;00m \u001b[38;5;28mlen\u001b[39m(args) \u001b[38;5;241m>\u001b[39m num_allow_args:\n\u001b[1;32m    306\u001b[0m     warnings\u001b[38;5;241m.\u001b[39mwarn(\n\u001b[1;32m    307\u001b[0m         msg\u001b[38;5;241m.\u001b[39mformat(arguments\u001b[38;5;241m=\u001b[39marguments),\n\u001b[1;32m    308\u001b[0m         \u001b[38;5;167;01mFutureWarning\u001b[39;00m,\n\u001b[1;32m    309\u001b[0m         stacklevel\u001b[38;5;241m=\u001b[39mstacklevel,\n\u001b[1;32m    310\u001b[0m     )\n\u001b[0;32m--> 311\u001b[0m \u001b[38;5;28;01mreturn\u001b[39;00m \u001b[43mfunc\u001b[49m\u001b[43m(\u001b[49m\u001b[38;5;241;43m*\u001b[39;49m\u001b[43margs\u001b[49m\u001b[43m,\u001b[49m\u001b[43m \u001b[49m\u001b[38;5;241;43m*\u001b[39;49m\u001b[38;5;241;43m*\u001b[39;49m\u001b[43mkwargs\u001b[49m\u001b[43m)\u001b[49m\n",
      "File \u001b[0;32m~/anaconda3/lib/python3.9/site-packages/pandas/io/parsers/readers.py:678\u001b[0m, in \u001b[0;36mread_csv\u001b[0;34m(filepath_or_buffer, sep, delimiter, header, names, index_col, usecols, squeeze, prefix, mangle_dupe_cols, dtype, engine, converters, true_values, false_values, skipinitialspace, skiprows, skipfooter, nrows, na_values, keep_default_na, na_filter, verbose, skip_blank_lines, parse_dates, infer_datetime_format, keep_date_col, date_parser, dayfirst, cache_dates, iterator, chunksize, compression, thousands, decimal, lineterminator, quotechar, quoting, doublequote, escapechar, comment, encoding, encoding_errors, dialect, error_bad_lines, warn_bad_lines, on_bad_lines, delim_whitespace, low_memory, memory_map, float_precision, storage_options)\u001b[0m\n\u001b[1;32m    663\u001b[0m kwds_defaults \u001b[38;5;241m=\u001b[39m _refine_defaults_read(\n\u001b[1;32m    664\u001b[0m     dialect,\n\u001b[1;32m    665\u001b[0m     delimiter,\n\u001b[0;32m   (...)\u001b[0m\n\u001b[1;32m    674\u001b[0m     defaults\u001b[38;5;241m=\u001b[39m{\u001b[38;5;124m\"\u001b[39m\u001b[38;5;124mdelimiter\u001b[39m\u001b[38;5;124m\"\u001b[39m: \u001b[38;5;124m\"\u001b[39m\u001b[38;5;124m,\u001b[39m\u001b[38;5;124m\"\u001b[39m},\n\u001b[1;32m    675\u001b[0m )\n\u001b[1;32m    676\u001b[0m kwds\u001b[38;5;241m.\u001b[39mupdate(kwds_defaults)\n\u001b[0;32m--> 678\u001b[0m \u001b[38;5;28;01mreturn\u001b[39;00m \u001b[43m_read\u001b[49m\u001b[43m(\u001b[49m\u001b[43mfilepath_or_buffer\u001b[49m\u001b[43m,\u001b[49m\u001b[43m \u001b[49m\u001b[43mkwds\u001b[49m\u001b[43m)\u001b[49m\n",
      "File \u001b[0;32m~/anaconda3/lib/python3.9/site-packages/pandas/io/parsers/readers.py:575\u001b[0m, in \u001b[0;36m_read\u001b[0;34m(filepath_or_buffer, kwds)\u001b[0m\n\u001b[1;32m    572\u001b[0m _validate_names(kwds\u001b[38;5;241m.\u001b[39mget(\u001b[38;5;124m\"\u001b[39m\u001b[38;5;124mnames\u001b[39m\u001b[38;5;124m\"\u001b[39m, \u001b[38;5;28;01mNone\u001b[39;00m))\n\u001b[1;32m    574\u001b[0m \u001b[38;5;66;03m# Create the parser.\u001b[39;00m\n\u001b[0;32m--> 575\u001b[0m parser \u001b[38;5;241m=\u001b[39m \u001b[43mTextFileReader\u001b[49m\u001b[43m(\u001b[49m\u001b[43mfilepath_or_buffer\u001b[49m\u001b[43m,\u001b[49m\u001b[43m \u001b[49m\u001b[38;5;241;43m*\u001b[39;49m\u001b[38;5;241;43m*\u001b[39;49m\u001b[43mkwds\u001b[49m\u001b[43m)\u001b[49m\n\u001b[1;32m    577\u001b[0m \u001b[38;5;28;01mif\u001b[39;00m chunksize \u001b[38;5;129;01mor\u001b[39;00m iterator:\n\u001b[1;32m    578\u001b[0m     \u001b[38;5;28;01mreturn\u001b[39;00m parser\n",
      "File \u001b[0;32m~/anaconda3/lib/python3.9/site-packages/pandas/io/parsers/readers.py:932\u001b[0m, in \u001b[0;36mTextFileReader.__init__\u001b[0;34m(self, f, engine, **kwds)\u001b[0m\n\u001b[1;32m    929\u001b[0m     \u001b[38;5;28mself\u001b[39m\u001b[38;5;241m.\u001b[39moptions[\u001b[38;5;124m\"\u001b[39m\u001b[38;5;124mhas_index_names\u001b[39m\u001b[38;5;124m\"\u001b[39m] \u001b[38;5;241m=\u001b[39m kwds[\u001b[38;5;124m\"\u001b[39m\u001b[38;5;124mhas_index_names\u001b[39m\u001b[38;5;124m\"\u001b[39m]\n\u001b[1;32m    931\u001b[0m \u001b[38;5;28mself\u001b[39m\u001b[38;5;241m.\u001b[39mhandles: IOHandles \u001b[38;5;241m|\u001b[39m \u001b[38;5;28;01mNone\u001b[39;00m \u001b[38;5;241m=\u001b[39m \u001b[38;5;28;01mNone\u001b[39;00m\n\u001b[0;32m--> 932\u001b[0m \u001b[38;5;28mself\u001b[39m\u001b[38;5;241m.\u001b[39m_engine \u001b[38;5;241m=\u001b[39m \u001b[38;5;28;43mself\u001b[39;49m\u001b[38;5;241;43m.\u001b[39;49m\u001b[43m_make_engine\u001b[49m\u001b[43m(\u001b[49m\u001b[43mf\u001b[49m\u001b[43m,\u001b[49m\u001b[43m \u001b[49m\u001b[38;5;28;43mself\u001b[39;49m\u001b[38;5;241;43m.\u001b[39;49m\u001b[43mengine\u001b[49m\u001b[43m)\u001b[49m\n",
      "File \u001b[0;32m~/anaconda3/lib/python3.9/site-packages/pandas/io/parsers/readers.py:1216\u001b[0m, in \u001b[0;36mTextFileReader._make_engine\u001b[0;34m(self, f, engine)\u001b[0m\n\u001b[1;32m   1212\u001b[0m     mode \u001b[38;5;241m=\u001b[39m \u001b[38;5;124m\"\u001b[39m\u001b[38;5;124mrb\u001b[39m\u001b[38;5;124m\"\u001b[39m\n\u001b[1;32m   1213\u001b[0m \u001b[38;5;66;03m# error: No overload variant of \"get_handle\" matches argument types\u001b[39;00m\n\u001b[1;32m   1214\u001b[0m \u001b[38;5;66;03m# \"Union[str, PathLike[str], ReadCsvBuffer[bytes], ReadCsvBuffer[str]]\"\u001b[39;00m\n\u001b[1;32m   1215\u001b[0m \u001b[38;5;66;03m# , \"str\", \"bool\", \"Any\", \"Any\", \"Any\", \"Any\", \"Any\"\u001b[39;00m\n\u001b[0;32m-> 1216\u001b[0m \u001b[38;5;28mself\u001b[39m\u001b[38;5;241m.\u001b[39mhandles \u001b[38;5;241m=\u001b[39m \u001b[43mget_handle\u001b[49m\u001b[43m(\u001b[49m\u001b[43m  \u001b[49m\u001b[38;5;66;43;03m# type: ignore[call-overload]\u001b[39;49;00m\n\u001b[1;32m   1217\u001b[0m \u001b[43m    \u001b[49m\u001b[43mf\u001b[49m\u001b[43m,\u001b[49m\n\u001b[1;32m   1218\u001b[0m \u001b[43m    \u001b[49m\u001b[43mmode\u001b[49m\u001b[43m,\u001b[49m\n\u001b[1;32m   1219\u001b[0m \u001b[43m    \u001b[49m\u001b[43mencoding\u001b[49m\u001b[38;5;241;43m=\u001b[39;49m\u001b[38;5;28;43mself\u001b[39;49m\u001b[38;5;241;43m.\u001b[39;49m\u001b[43moptions\u001b[49m\u001b[38;5;241;43m.\u001b[39;49m\u001b[43mget\u001b[49m\u001b[43m(\u001b[49m\u001b[38;5;124;43m\"\u001b[39;49m\u001b[38;5;124;43mencoding\u001b[39;49m\u001b[38;5;124;43m\"\u001b[39;49m\u001b[43m,\u001b[49m\u001b[43m \u001b[49m\u001b[38;5;28;43;01mNone\u001b[39;49;00m\u001b[43m)\u001b[49m\u001b[43m,\u001b[49m\n\u001b[1;32m   1220\u001b[0m \u001b[43m    \u001b[49m\u001b[43mcompression\u001b[49m\u001b[38;5;241;43m=\u001b[39;49m\u001b[38;5;28;43mself\u001b[39;49m\u001b[38;5;241;43m.\u001b[39;49m\u001b[43moptions\u001b[49m\u001b[38;5;241;43m.\u001b[39;49m\u001b[43mget\u001b[49m\u001b[43m(\u001b[49m\u001b[38;5;124;43m\"\u001b[39;49m\u001b[38;5;124;43mcompression\u001b[39;49m\u001b[38;5;124;43m\"\u001b[39;49m\u001b[43m,\u001b[49m\u001b[43m \u001b[49m\u001b[38;5;28;43;01mNone\u001b[39;49;00m\u001b[43m)\u001b[49m\u001b[43m,\u001b[49m\n\u001b[1;32m   1221\u001b[0m \u001b[43m    \u001b[49m\u001b[43mmemory_map\u001b[49m\u001b[38;5;241;43m=\u001b[39;49m\u001b[38;5;28;43mself\u001b[39;49m\u001b[38;5;241;43m.\u001b[39;49m\u001b[43moptions\u001b[49m\u001b[38;5;241;43m.\u001b[39;49m\u001b[43mget\u001b[49m\u001b[43m(\u001b[49m\u001b[38;5;124;43m\"\u001b[39;49m\u001b[38;5;124;43mmemory_map\u001b[39;49m\u001b[38;5;124;43m\"\u001b[39;49m\u001b[43m,\u001b[49m\u001b[43m \u001b[49m\u001b[38;5;28;43;01mFalse\u001b[39;49;00m\u001b[43m)\u001b[49m\u001b[43m,\u001b[49m\n\u001b[1;32m   1222\u001b[0m \u001b[43m    \u001b[49m\u001b[43mis_text\u001b[49m\u001b[38;5;241;43m=\u001b[39;49m\u001b[43mis_text\u001b[49m\u001b[43m,\u001b[49m\n\u001b[1;32m   1223\u001b[0m \u001b[43m    \u001b[49m\u001b[43merrors\u001b[49m\u001b[38;5;241;43m=\u001b[39;49m\u001b[38;5;28;43mself\u001b[39;49m\u001b[38;5;241;43m.\u001b[39;49m\u001b[43moptions\u001b[49m\u001b[38;5;241;43m.\u001b[39;49m\u001b[43mget\u001b[49m\u001b[43m(\u001b[49m\u001b[38;5;124;43m\"\u001b[39;49m\u001b[38;5;124;43mencoding_errors\u001b[39;49m\u001b[38;5;124;43m\"\u001b[39;49m\u001b[43m,\u001b[49m\u001b[43m \u001b[49m\u001b[38;5;124;43m\"\u001b[39;49m\u001b[38;5;124;43mstrict\u001b[39;49m\u001b[38;5;124;43m\"\u001b[39;49m\u001b[43m)\u001b[49m\u001b[43m,\u001b[49m\n\u001b[1;32m   1224\u001b[0m \u001b[43m    \u001b[49m\u001b[43mstorage_options\u001b[49m\u001b[38;5;241;43m=\u001b[39;49m\u001b[38;5;28;43mself\u001b[39;49m\u001b[38;5;241;43m.\u001b[39;49m\u001b[43moptions\u001b[49m\u001b[38;5;241;43m.\u001b[39;49m\u001b[43mget\u001b[49m\u001b[43m(\u001b[49m\u001b[38;5;124;43m\"\u001b[39;49m\u001b[38;5;124;43mstorage_options\u001b[39;49m\u001b[38;5;124;43m\"\u001b[39;49m\u001b[43m,\u001b[49m\u001b[43m \u001b[49m\u001b[38;5;28;43;01mNone\u001b[39;49;00m\u001b[43m)\u001b[49m\u001b[43m,\u001b[49m\n\u001b[1;32m   1225\u001b[0m \u001b[43m\u001b[49m\u001b[43m)\u001b[49m\n\u001b[1;32m   1226\u001b[0m \u001b[38;5;28;01massert\u001b[39;00m \u001b[38;5;28mself\u001b[39m\u001b[38;5;241m.\u001b[39mhandles \u001b[38;5;129;01mis\u001b[39;00m \u001b[38;5;129;01mnot\u001b[39;00m \u001b[38;5;28;01mNone\u001b[39;00m\n\u001b[1;32m   1227\u001b[0m f \u001b[38;5;241m=\u001b[39m \u001b[38;5;28mself\u001b[39m\u001b[38;5;241m.\u001b[39mhandles\u001b[38;5;241m.\u001b[39mhandle\n",
      "File \u001b[0;32m~/anaconda3/lib/python3.9/site-packages/pandas/io/common.py:786\u001b[0m, in \u001b[0;36mget_handle\u001b[0;34m(path_or_buf, mode, encoding, compression, memory_map, is_text, errors, storage_options)\u001b[0m\n\u001b[1;32m    781\u001b[0m \u001b[38;5;28;01melif\u001b[39;00m \u001b[38;5;28misinstance\u001b[39m(handle, \u001b[38;5;28mstr\u001b[39m):\n\u001b[1;32m    782\u001b[0m     \u001b[38;5;66;03m# Check whether the filename is to be opened in binary mode.\u001b[39;00m\n\u001b[1;32m    783\u001b[0m     \u001b[38;5;66;03m# Binary mode does not support 'encoding' and 'newline'.\u001b[39;00m\n\u001b[1;32m    784\u001b[0m     \u001b[38;5;28;01mif\u001b[39;00m ioargs\u001b[38;5;241m.\u001b[39mencoding \u001b[38;5;129;01mand\u001b[39;00m \u001b[38;5;124m\"\u001b[39m\u001b[38;5;124mb\u001b[39m\u001b[38;5;124m\"\u001b[39m \u001b[38;5;129;01mnot\u001b[39;00m \u001b[38;5;129;01min\u001b[39;00m ioargs\u001b[38;5;241m.\u001b[39mmode:\n\u001b[1;32m    785\u001b[0m         \u001b[38;5;66;03m# Encoding\u001b[39;00m\n\u001b[0;32m--> 786\u001b[0m         handle \u001b[38;5;241m=\u001b[39m \u001b[38;5;28;43mopen\u001b[39;49m\u001b[43m(\u001b[49m\n\u001b[1;32m    787\u001b[0m \u001b[43m            \u001b[49m\u001b[43mhandle\u001b[49m\u001b[43m,\u001b[49m\n\u001b[1;32m    788\u001b[0m \u001b[43m            \u001b[49m\u001b[43mioargs\u001b[49m\u001b[38;5;241;43m.\u001b[39;49m\u001b[43mmode\u001b[49m\u001b[43m,\u001b[49m\n\u001b[1;32m    789\u001b[0m \u001b[43m            \u001b[49m\u001b[43mencoding\u001b[49m\u001b[38;5;241;43m=\u001b[39;49m\u001b[43mioargs\u001b[49m\u001b[38;5;241;43m.\u001b[39;49m\u001b[43mencoding\u001b[49m\u001b[43m,\u001b[49m\n\u001b[1;32m    790\u001b[0m \u001b[43m            \u001b[49m\u001b[43merrors\u001b[49m\u001b[38;5;241;43m=\u001b[39;49m\u001b[43merrors\u001b[49m\u001b[43m,\u001b[49m\n\u001b[1;32m    791\u001b[0m \u001b[43m            \u001b[49m\u001b[43mnewline\u001b[49m\u001b[38;5;241;43m=\u001b[39;49m\u001b[38;5;124;43m\"\u001b[39;49m\u001b[38;5;124;43m\"\u001b[39;49m\u001b[43m,\u001b[49m\n\u001b[1;32m    792\u001b[0m \u001b[43m        \u001b[49m\u001b[43m)\u001b[49m\n\u001b[1;32m    793\u001b[0m     \u001b[38;5;28;01melse\u001b[39;00m:\n\u001b[1;32m    794\u001b[0m         \u001b[38;5;66;03m# Binary mode\u001b[39;00m\n\u001b[1;32m    795\u001b[0m         handle \u001b[38;5;241m=\u001b[39m \u001b[38;5;28mopen\u001b[39m(handle, ioargs\u001b[38;5;241m.\u001b[39mmode)\n",
      "\u001b[0;31mFileNotFoundError\u001b[0m: [Errno 2] No such file or directory: 'data/pred_data.csv'"
     ]
    }
   ],
   "source": [
    "vh_vv_data = pd.read_csv(\"data/pred_data.csv\")\n",
    "vh_vv_data.head()"
   ]
  },
  {
   "cell_type": "code",
   "execution_count": 10,
   "id": "96296d95-8290-4f26-80f9-9e221bfcfc81",
   "metadata": {},
   "outputs": [],
   "source": [
    "def combine_two_datasets(dataset1,dataset2):\n",
    "    '''\n",
    "    Returns a  vertically con\"catenated dataset.\n",
    "    Attributes:\n",
    "    dataset1 - Dataset 1 to be combined \n",
    "    dataset2 - Dataset 2 to be combined\n",
    "    '''\n",
    "    data = pd.concat([dataset1,dataset2], axis=1)\n",
    "    return data"
   ]
  },
  {
   "cell_type": "code",
   "execution_count": 20,
   "id": "20fa2b5f-727b-4781-9ff4-cc70596cd3f0",
   "metadata": {},
   "outputs": [
    {
     "data": {
      "text/plain": [
       "Rice        300\n",
       "Non Rice    300\n",
       "Name: Class of Land, dtype: int64"
      ]
     },
     "execution_count": 20,
     "metadata": {},
     "output_type": "execute_result"
    }
   ],
   "source": [
    "crop_data = combine_two_datasets(crop_presence_data,vh_vv_rvi_data)\n",
    "crop_data['Class of Land'].value_counts()"
   ]
  },
  {
   "cell_type": "code",
   "execution_count": 32,
   "id": "5b4429c9-ad09-4604-8a4d-dda9b1d44d27",
   "metadata": {},
   "outputs": [],
   "source": [
    "# Calculate RVI(vv/vv+vh)\n",
    "dop = (crop_data[\"vv\"] / (crop_data[\"vv\"] + crop_data[\"vh\"]))\n",
    "m = 1 - dop\n",
    "rvi = (np.sqrt(dop))*((4*crop_data[\"vh\"])/(crop_data[\"vv\"] + crop_data[\"vh\"]))\n",
    "crop_data[\"rvi\"] = rvi\n"
   ]
  },
  {
   "cell_type": "markdown",
   "id": "fd4af7b5-41d1-4822-8d78-5e4bdc84b287",
   "metadata": {},
   "source": [
    "## Model Building\n"
   ]
  },
  {
   "cell_type": "code",
   "execution_count": 21,
   "id": "5df1b610-4604-4262-b703-3d5d74a0e0a8",
   "metadata": {},
   "outputs": [
    {
     "data": {
      "text/html": [
       "<div>\n",
       "<style scoped>\n",
       "    .dataframe tbody tr th:only-of-type {\n",
       "        vertical-align: middle;\n",
       "    }\n",
       "\n",
       "    .dataframe tbody tr th {\n",
       "        vertical-align: top;\n",
       "    }\n",
       "\n",
       "    .dataframe thead th {\n",
       "        text-align: right;\n",
       "    }\n",
       "</style>\n",
       "<table border=\"1\" class=\"dataframe\">\n",
       "  <thead>\n",
       "    <tr style=\"text-align: right;\">\n",
       "      <th></th>\n",
       "      <th>Latitude and Longitude</th>\n",
       "      <th>Class of Land</th>\n",
       "      <th>vh</th>\n",
       "      <th>vv</th>\n",
       "      <th>rvi</th>\n",
       "    </tr>\n",
       "  </thead>\n",
       "  <tbody>\n",
       "    <tr>\n",
       "      <th>0</th>\n",
       "      <td>(10.323727047081501, 105.2516346045924)</td>\n",
       "      <td>Rice</td>\n",
       "      <td>0.20758393</td>\n",
       "      <td>0.06232412</td>\n",
       "      <td>0.8100078204238705</td>\n",
       "    </tr>\n",
       "    <tr>\n",
       "      <th>1</th>\n",
       "      <td>(10.322364360592521, 105.27843410554115)</td>\n",
       "      <td>Rice</td>\n",
       "      <td>0.15551779</td>\n",
       "      <td>0.03757794</td>\n",
       "      <td>0.6985925867387248</td>\n",
       "    </tr>\n",
       "    <tr>\n",
       "      <th>2</th>\n",
       "      <td>(10.321455902933202, 105.25254306225168)</td>\n",
       "      <td>Rice</td>\n",
       "      <td>0.21735105</td>\n",
       "      <td>0.04275458</td>\n",
       "      <td>0.6010337436495468</td>\n",
       "    </tr>\n",
       "    <tr>\n",
       "      <th>3</th>\n",
       "      <td>(10.324181275911162, 105.25118037576274)</td>\n",
       "      <td>Rice</td>\n",
       "      <td>0.16330516</td>\n",
       "      <td>0.03154174</td>\n",
       "      <td>0.5927960744431653</td>\n",
       "    </tr>\n",
       "    <tr>\n",
       "      <th>4</th>\n",
       "      <td>(10.324635504740822, 105.27389181724476)</td>\n",
       "      <td>Rice</td>\n",
       "      <td>0.2314578</td>\n",
       "      <td>0.03876194</td>\n",
       "      <td>0.5310382211650145</td>\n",
       "    </tr>\n",
       "  </tbody>\n",
       "</table>\n",
       "</div>"
      ],
      "text/plain": [
       "                     Latitude and Longitude Class of Land          vh  \\\n",
       "0   (10.323727047081501, 105.2516346045924)          Rice  0.20758393   \n",
       "1  (10.322364360592521, 105.27843410554115)          Rice  0.15551779   \n",
       "2  (10.321455902933202, 105.25254306225168)          Rice  0.21735105   \n",
       "3  (10.324181275911162, 105.25118037576274)          Rice  0.16330516   \n",
       "4  (10.324635504740822, 105.27389181724476)          Rice   0.2314578   \n",
       "\n",
       "           vv                 rvi  \n",
       "0  0.06232412  0.8100078204238705  \n",
       "1  0.03757794  0.6985925867387248  \n",
       "2  0.04275458  0.6010337436495468  \n",
       "3  0.03154174  0.5927960744431653  \n",
       "4  0.03876194  0.5310382211650145  "
      ]
     },
     "execution_count": 21,
     "metadata": {},
     "output_type": "execute_result"
    }
   ],
   "source": [
    "crop_data.head()"
   ]
  },
  {
   "cell_type": "code",
   "execution_count": 34,
   "id": "1c06efea-36ae-4157-970a-5c2a7c4d12e7",
   "metadata": {},
   "outputs": [
    {
     "data": {
      "text/html": [
       "<div>\n",
       "<style scoped>\n",
       "    .dataframe tbody tr th:only-of-type {\n",
       "        vertical-align: middle;\n",
       "    }\n",
       "\n",
       "    .dataframe tbody tr th {\n",
       "        vertical-align: top;\n",
       "    }\n",
       "\n",
       "    .dataframe thead th {\n",
       "        text-align: right;\n",
       "    }\n",
       "</style>\n",
       "<table border=\"1\" class=\"dataframe\">\n",
       "  <thead>\n",
       "    <tr style=\"text-align: right;\">\n",
       "      <th></th>\n",
       "      <th>Latitude and Longitude</th>\n",
       "      <th>Class of Land</th>\n",
       "      <th>vh</th>\n",
       "      <th>vv</th>\n",
       "      <th>rvi</th>\n",
       "    </tr>\n",
       "  </thead>\n",
       "  <tbody>\n",
       "    <tr>\n",
       "      <th>0</th>\n",
       "      <td>(10.323727047081501, 105.2516346045924)</td>\n",
       "      <td>Rice</td>\n",
       "      <td>0.051305</td>\n",
       "      <td>0.507141</td>\n",
       "      <td>0.350196</td>\n",
       "    </tr>\n",
       "    <tr>\n",
       "      <th>1</th>\n",
       "      <td>(10.322364360592521, 105.27843410554115)</td>\n",
       "      <td>Rice</td>\n",
       "      <td>0.025675</td>\n",
       "      <td>0.210904</td>\n",
       "      <td>0.409873</td>\n",
       "    </tr>\n",
       "    <tr>\n",
       "      <th>2</th>\n",
       "      <td>(10.321455902933202, 105.25254306225168)</td>\n",
       "      <td>Rice</td>\n",
       "      <td>0.017782</td>\n",
       "      <td>0.288333</td>\n",
       "      <td>0.225513</td>\n",
       "    </tr>\n",
       "    <tr>\n",
       "      <th>3</th>\n",
       "      <td>(10.324181275911162, 105.25118037576274)</td>\n",
       "      <td>Rice</td>\n",
       "      <td>0.045639</td>\n",
       "      <td>0.325562</td>\n",
       "      <td>0.460574</td>\n",
       "    </tr>\n",
       "    <tr>\n",
       "      <th>4</th>\n",
       "      <td>(10.324635504740822, 105.27389181724476)</td>\n",
       "      <td>Rice</td>\n",
       "      <td>0.019222</td>\n",
       "      <td>0.191109</td>\n",
       "      <td>0.348457</td>\n",
       "    </tr>\n",
       "    <tr>\n",
       "      <th>...</th>\n",
       "      <td>...</td>\n",
       "      <td>...</td>\n",
       "      <td>...</td>\n",
       "      <td>...</td>\n",
       "      <td>...</td>\n",
       "    </tr>\n",
       "    <tr>\n",
       "      <th>595</th>\n",
       "      <td>(10.013942985253381, 105.67361318732796)</td>\n",
       "      <td>Non Rice</td>\n",
       "      <td>0.093325</td>\n",
       "      <td>0.114293</td>\n",
       "      <td>1.334044</td>\n",
       "    </tr>\n",
       "    <tr>\n",
       "      <th>596</th>\n",
       "      <td>(10.01348875642372, 105.67361318732796)</td>\n",
       "      <td>Non Rice</td>\n",
       "      <td>0.038517</td>\n",
       "      <td>0.180069</td>\n",
       "      <td>0.639737</td>\n",
       "    </tr>\n",
       "    <tr>\n",
       "      <th>597</th>\n",
       "      <td>(10.013034527594062, 105.67361318732796)</td>\n",
       "      <td>Non Rice</td>\n",
       "      <td>0.056709</td>\n",
       "      <td>0.254847</td>\n",
       "      <td>0.658485</td>\n",
       "    </tr>\n",
       "    <tr>\n",
       "      <th>598</th>\n",
       "      <td>(10.012580298764401, 105.67361318732796)</td>\n",
       "      <td>Non Rice</td>\n",
       "      <td>0.072502</td>\n",
       "      <td>0.110558</td>\n",
       "      <td>1.231162</td>\n",
       "    </tr>\n",
       "    <tr>\n",
       "      <th>599</th>\n",
       "      <td>(10.012126069934741, 105.67361318732796)</td>\n",
       "      <td>Non Rice</td>\n",
       "      <td>0.037270</td>\n",
       "      <td>0.178734</td>\n",
       "      <td>0.627815</td>\n",
       "    </tr>\n",
       "  </tbody>\n",
       "</table>\n",
       "<p>600 rows × 5 columns</p>\n",
       "</div>"
      ],
      "text/plain": [
       "                       Latitude and Longitude Class of Land        vh  \\\n",
       "0     (10.323727047081501, 105.2516346045924)          Rice  0.051305   \n",
       "1    (10.322364360592521, 105.27843410554115)          Rice  0.025675   \n",
       "2    (10.321455902933202, 105.25254306225168)          Rice  0.017782   \n",
       "3    (10.324181275911162, 105.25118037576274)          Rice  0.045639   \n",
       "4    (10.324635504740822, 105.27389181724476)          Rice  0.019222   \n",
       "..                                        ...           ...       ...   \n",
       "595  (10.013942985253381, 105.67361318732796)      Non Rice  0.093325   \n",
       "596   (10.01348875642372, 105.67361318732796)      Non Rice  0.038517   \n",
       "597  (10.013034527594062, 105.67361318732796)      Non Rice  0.056709   \n",
       "598  (10.012580298764401, 105.67361318732796)      Non Rice  0.072502   \n",
       "599  (10.012126069934741, 105.67361318732796)      Non Rice  0.037270   \n",
       "\n",
       "           vv       rvi  \n",
       "0    0.507141  0.350196  \n",
       "1    0.210904  0.409873  \n",
       "2    0.288333  0.225513  \n",
       "3    0.325562  0.460574  \n",
       "4    0.191109  0.348457  \n",
       "..        ...       ...  \n",
       "595  0.114293  1.334044  \n",
       "596  0.180069  0.639737  \n",
       "597  0.254847  0.658485  \n",
       "598  0.110558  1.231162  \n",
       "599  0.178734  0.627815  \n",
       "\n",
       "[600 rows x 5 columns]"
      ]
     },
     "execution_count": 34,
     "metadata": {},
     "output_type": "execute_result"
    }
   ],
   "source": [
    "crop_data"
   ]
  },
  {
   "cell_type": "markdown",
   "id": "a664ca55-dba1-440b-a4ef-2b6934c03929",
   "metadata": {},
   "source": [
    "<p align=\"justify\"> Now let us select the columns required for our model building exercise. We will consider only VV and VH, rvi for our model. It does not make sense to use latitude and longitude as predictor variables as they do not have any impact on presence of rice crop.</p>"
   ]
  },
  {
   "cell_type": "code",
   "execution_count": 35,
   "id": "536d53ad-2697-4283-8ceb-db94f93bad7e",
   "metadata": {},
   "outputs": [],
   "source": [
    "crop_data = crop_data[['vh','vv','Class of Land']]"
   ]
  },
  {
   "cell_type": "markdown",
   "id": "fca40658-8003-4195-b0d1-5efe29929ac9",
   "metadata": {},
   "source": [
    "### Train and Test Split "
   ]
  },
  {
   "cell_type": "markdown",
   "id": "b46507f5-cfd1-43d8-8b05-aa09ce8016af",
   "metadata": {},
   "source": [
    "<p align=\"justify\">We will now split the data into 70% training data and 30% test data. Scikit-learn alias “sklearn” is a robust library for machine learning in Python. The scikit-learn library has a <i><b>model_selection</b></i> module in which there is a splitting function <i><b>train_test_split</b></i>. You can use the same.</p>"
   ]
  },
  {
   "cell_type": "code",
   "execution_count": 36,
   "id": "9ee719a1-a253-450c-b13b-7e52774cded8",
   "metadata": {},
   "outputs": [
    {
     "data": {
      "text/html": [
       "<div>\n",
       "<style scoped>\n",
       "    .dataframe tbody tr th:only-of-type {\n",
       "        vertical-align: middle;\n",
       "    }\n",
       "\n",
       "    .dataframe tbody tr th {\n",
       "        vertical-align: top;\n",
       "    }\n",
       "\n",
       "    .dataframe thead th {\n",
       "        text-align: right;\n",
       "    }\n",
       "</style>\n",
       "<table border=\"1\" class=\"dataframe\">\n",
       "  <thead>\n",
       "    <tr style=\"text-align: right;\">\n",
       "      <th></th>\n",
       "      <th>vh</th>\n",
       "      <th>vv</th>\n",
       "      <th>Class of Land</th>\n",
       "    </tr>\n",
       "  </thead>\n",
       "  <tbody>\n",
       "    <tr>\n",
       "      <th>0</th>\n",
       "      <td>0.051305</td>\n",
       "      <td>0.507141</td>\n",
       "      <td>Rice</td>\n",
       "    </tr>\n",
       "    <tr>\n",
       "      <th>1</th>\n",
       "      <td>0.025675</td>\n",
       "      <td>0.210904</td>\n",
       "      <td>Rice</td>\n",
       "    </tr>\n",
       "    <tr>\n",
       "      <th>2</th>\n",
       "      <td>0.017782</td>\n",
       "      <td>0.288333</td>\n",
       "      <td>Rice</td>\n",
       "    </tr>\n",
       "    <tr>\n",
       "      <th>3</th>\n",
       "      <td>0.045639</td>\n",
       "      <td>0.325562</td>\n",
       "      <td>Rice</td>\n",
       "    </tr>\n",
       "    <tr>\n",
       "      <th>4</th>\n",
       "      <td>0.019222</td>\n",
       "      <td>0.191109</td>\n",
       "      <td>Rice</td>\n",
       "    </tr>\n",
       "    <tr>\n",
       "      <th>...</th>\n",
       "      <td>...</td>\n",
       "      <td>...</td>\n",
       "      <td>...</td>\n",
       "    </tr>\n",
       "    <tr>\n",
       "      <th>595</th>\n",
       "      <td>0.093325</td>\n",
       "      <td>0.114293</td>\n",
       "      <td>Non Rice</td>\n",
       "    </tr>\n",
       "    <tr>\n",
       "      <th>596</th>\n",
       "      <td>0.038517</td>\n",
       "      <td>0.180069</td>\n",
       "      <td>Non Rice</td>\n",
       "    </tr>\n",
       "    <tr>\n",
       "      <th>597</th>\n",
       "      <td>0.056709</td>\n",
       "      <td>0.254847</td>\n",
       "      <td>Non Rice</td>\n",
       "    </tr>\n",
       "    <tr>\n",
       "      <th>598</th>\n",
       "      <td>0.072502</td>\n",
       "      <td>0.110558</td>\n",
       "      <td>Non Rice</td>\n",
       "    </tr>\n",
       "    <tr>\n",
       "      <th>599</th>\n",
       "      <td>0.037270</td>\n",
       "      <td>0.178734</td>\n",
       "      <td>Non Rice</td>\n",
       "    </tr>\n",
       "  </tbody>\n",
       "</table>\n",
       "<p>600 rows × 3 columns</p>\n",
       "</div>"
      ],
      "text/plain": [
       "           vh        vv Class of Land\n",
       "0    0.051305  0.507141          Rice\n",
       "1    0.025675  0.210904          Rice\n",
       "2    0.017782  0.288333          Rice\n",
       "3    0.045639  0.325562          Rice\n",
       "4    0.019222  0.191109          Rice\n",
       "..        ...       ...           ...\n",
       "595  0.093325  0.114293      Non Rice\n",
       "596  0.038517  0.180069      Non Rice\n",
       "597  0.056709  0.254847      Non Rice\n",
       "598  0.072502  0.110558      Non Rice\n",
       "599  0.037270  0.178734      Non Rice\n",
       "\n",
       "[600 rows x 3 columns]"
      ]
     },
     "execution_count": 36,
     "metadata": {},
     "output_type": "execute_result"
    }
   ],
   "source": [
    "crop_data"
   ]
  },
  {
   "cell_type": "code",
   "execution_count": 37,
   "id": "aec85ad5-9b67-42ba-ab78-4fef97affac7",
   "metadata": {},
   "outputs": [],
   "source": [
    "crop_data['Class of Land'] = crop_data['Class of Land'].replace({'Rice': 1, 'Non Rice': 0})"
   ]
  },
  {
   "cell_type": "code",
   "execution_count": 38,
   "id": "c9fcc80d-677d-4fbc-a21b-8b9221b22a73",
   "metadata": {},
   "outputs": [],
   "source": [
    "import matplotlib.pyplot as plt\n",
    "import numpy as np\n",
    "import pandas as pd\n",
    "import seaborn as sns\n",
    "\n",
    "from sklearn.model_selection import train_test_split\n",
    "from sklearn.pipeline import Pipeline\n",
    "from sklearn.compose import make_column_transformer\n",
    "from sklearn.neighbors import KNeighborsClassifier\n",
    "from sklearn.preprocessing import OneHotEncoder, StandardScaler, PolynomialFeatures\n",
    "from sklearn.datasets import make_blobs\n",
    "from sklearn import set_config\n",
    "set_config('display')"
   ]
  },
  {
   "cell_type": "code",
   "execution_count": 39,
   "id": "0dbf6a40-1fca-4d4c-9a6a-af0193cd9e4a",
   "metadata": {},
   "outputs": [],
   "source": [
    "#classification by using K-Nearest Neighbors algorithm\n"
   ]
  },
  {
   "cell_type": "code",
   "execution_count": 47,
   "id": "036e41a4-e5bc-410d-bf78-ba5aeb78f4e4",
   "metadata": {},
   "outputs": [],
   "source": [
    "#Calculate sigma_nought\n",
    "\n",
    "# Convert dB to linear scale\n",
    "crop_data['vh_lin'] = 10**(crop_data['vh'] / 10)\n",
    "crop_data['vv_lin'] = 10**(crop_data['vv'] / 10)\n",
    "\n",
    "# Calculate Sigma-nought\n",
    "\n",
    "crop_data['sigma0_temp'] = (crop_data['vv_lin']**2 + crop_data['vh_lin']**2) / 2\n",
    "\n",
    "\n",
    "\n",
    "\n",
    "crop_data['sigma0_temp1'] = crop_data['sigma0_temp'].apply(lambda x: np.log10(x))\n",
    "crop_data['sigma0'] = 10 * crop_data['sigma0_temp1']\n",
    "\n",
    "# Calculate Gamma-nought\n",
    "crop_data['gamma0'] = 10**(0.1*(crop_data['vh'] + crop_data['vv']))"
   ]
  },
  {
   "cell_type": "code",
   "execution_count": 51,
   "id": "e90ff147-66e2-4a63-bde6-47a071b55c02",
   "metadata": {},
   "outputs": [
    {
     "data": {
      "text/html": [
       "<div>\n",
       "<style scoped>\n",
       "    .dataframe tbody tr th:only-of-type {\n",
       "        vertical-align: middle;\n",
       "    }\n",
       "\n",
       "    .dataframe tbody tr th {\n",
       "        vertical-align: top;\n",
       "    }\n",
       "\n",
       "    .dataframe thead th {\n",
       "        text-align: right;\n",
       "    }\n",
       "</style>\n",
       "<table border=\"1\" class=\"dataframe\">\n",
       "  <thead>\n",
       "    <tr style=\"text-align: right;\">\n",
       "      <th></th>\n",
       "      <th>Latitude and Longitude</th>\n",
       "      <th>Class of Land</th>\n",
       "      <th>vh</th>\n",
       "      <th>vv</th>\n",
       "      <th>rvi</th>\n",
       "      <th>vh_lin</th>\n",
       "      <th>vv_lin</th>\n",
       "      <th>gamma0</th>\n",
       "      <th>sigma0_temp</th>\n",
       "      <th>sigma0_temp1</th>\n",
       "      <th>sigma0</th>\n",
       "    </tr>\n",
       "  </thead>\n",
       "  <tbody>\n",
       "    <tr>\n",
       "      <th>0</th>\n",
       "      <td>(10.323727047081501, 105.2516346045924)</td>\n",
       "      <td>Rice</td>\n",
       "      <td>0.20758393</td>\n",
       "      <td>0.06232412</td>\n",
       "      <td>0.8100078204238705</td>\n",
       "      <td>1.048959</td>\n",
       "      <td>1.014454</td>\n",
       "      <td>1.06412</td>\n",
       "      <td>1.064716</td>\n",
       "      <td>0.027234</td>\n",
       "      <td>0.272337</td>\n",
       "    </tr>\n",
       "    <tr>\n",
       "      <th>1</th>\n",
       "      <td>(10.322364360592521, 105.27843410554115)</td>\n",
       "      <td>Rice</td>\n",
       "      <td>0.15551779</td>\n",
       "      <td>0.03757794</td>\n",
       "      <td>0.6985925867387248</td>\n",
       "      <td>1.036458</td>\n",
       "      <td>1.00869</td>\n",
       "      <td>1.045465</td>\n",
       "      <td>1.045851</td>\n",
       "      <td>0.019470</td>\n",
       "      <td>0.194697</td>\n",
       "    </tr>\n",
       "    <tr>\n",
       "      <th>2</th>\n",
       "      <td>(10.321455902933202, 105.25254306225168)</td>\n",
       "      <td>Rice</td>\n",
       "      <td>0.21735105</td>\n",
       "      <td>0.04275458</td>\n",
       "      <td>0.6010337436495468</td>\n",
       "      <td>1.05132</td>\n",
       "      <td>1.009893</td>\n",
       "      <td>1.061721</td>\n",
       "      <td>1.062579</td>\n",
       "      <td>0.026361</td>\n",
       "      <td>0.263614</td>\n",
       "    </tr>\n",
       "    <tr>\n",
       "      <th>3</th>\n",
       "      <td>(10.324181275911162, 105.25118037576274)</td>\n",
       "      <td>Rice</td>\n",
       "      <td>0.16330516</td>\n",
       "      <td>0.03154174</td>\n",
       "      <td>0.5927960744431653</td>\n",
       "      <td>1.038318</td>\n",
       "      <td>1.007289</td>\n",
       "      <td>1.045887</td>\n",
       "      <td>1.046368</td>\n",
       "      <td>0.019685</td>\n",
       "      <td>0.196845</td>\n",
       "    </tr>\n",
       "    <tr>\n",
       "      <th>4</th>\n",
       "      <td>(10.324635504740822, 105.27389181724476)</td>\n",
       "      <td>Rice</td>\n",
       "      <td>0.2314578</td>\n",
       "      <td>0.03876194</td>\n",
       "      <td>0.5310382211650145</td>\n",
       "      <td>1.054741</td>\n",
       "      <td>1.008965</td>\n",
       "      <td>1.064197</td>\n",
       "      <td>1.065245</td>\n",
       "      <td>0.027449</td>\n",
       "      <td>0.274493</td>\n",
       "    </tr>\n",
       "    <tr>\n",
       "      <th>...</th>\n",
       "      <td>...</td>\n",
       "      <td>...</td>\n",
       "      <td>...</td>\n",
       "      <td>...</td>\n",
       "      <td>...</td>\n",
       "      <td>...</td>\n",
       "      <td>...</td>\n",
       "      <td>...</td>\n",
       "      <td>...</td>\n",
       "      <td>...</td>\n",
       "      <td>...</td>\n",
       "    </tr>\n",
       "    <tr>\n",
       "      <th>595</th>\n",
       "      <td>(10.013942985253381, 105.67361318732796)</td>\n",
       "      <td>Non Rice</td>\n",
       "      <td>0.19289711</td>\n",
       "      <td>0.050605137</td>\n",
       "      <td>0.7398829233646299</td>\n",
       "      <td>1.045417</td>\n",
       "      <td>1.01172</td>\n",
       "      <td>1.05767</td>\n",
       "      <td>1.058238</td>\n",
       "      <td>0.024583</td>\n",
       "      <td>0.245833</td>\n",
       "    </tr>\n",
       "    <tr>\n",
       "      <th>596</th>\n",
       "      <td>(10.01348875642372, 105.67361318732796)</td>\n",
       "      <td>Non Rice</td>\n",
       "      <td>0.26415795</td>\n",
       "      <td>0.054577384</td>\n",
       "      <td>0.6235327090934485</td>\n",
       "      <td>1.062713</td>\n",
       "      <td>1.012646</td>\n",
       "      <td>1.076152</td>\n",
       "      <td>1.077405</td>\n",
       "      <td>0.032379</td>\n",
       "      <td>0.323790</td>\n",
       "    </tr>\n",
       "    <tr>\n",
       "      <th>597</th>\n",
       "      <td>(10.013034527594062, 105.67361318732796)</td>\n",
       "      <td>Non Rice</td>\n",
       "      <td>0.32137352</td>\n",
       "      <td>0.067015804</td>\n",
       "      <td>0.6278289731235115</td>\n",
       "      <td>1.076806</td>\n",
       "      <td>1.015551</td>\n",
       "      <td>1.093551</td>\n",
       "      <td>1.095427</td>\n",
       "      <td>0.039583</td>\n",
       "      <td>0.395834</td>\n",
       "    </tr>\n",
       "    <tr>\n",
       "      <th>598</th>\n",
       "      <td>(10.012580298764401, 105.67361318732796)</td>\n",
       "      <td>Non Rice</td>\n",
       "      <td>0.2864713</td>\n",
       "      <td>0.071513124</td>\n",
       "      <td>0.7148091780346641</td>\n",
       "      <td>1.068187</td>\n",
       "      <td>1.016603</td>\n",
       "      <td>1.085922</td>\n",
       "      <td>1.087252</td>\n",
       "      <td>0.036330</td>\n",
       "      <td>0.363302</td>\n",
       "    </tr>\n",
       "    <tr>\n",
       "      <th>599</th>\n",
       "      <td>(10.012126069934741, 105.67361318732796)</td>\n",
       "      <td>Non Rice</td>\n",
       "      <td>0.2470215</td>\n",
       "      <td>0.05908098</td>\n",
       "      <td>0.6935451890519234</td>\n",
       "      <td>1.058528</td>\n",
       "      <td>1.013697</td>\n",
       "      <td>1.073026</td>\n",
       "      <td>1.074031</td>\n",
       "      <td>0.031017</td>\n",
       "      <td>0.310168</td>\n",
       "    </tr>\n",
       "  </tbody>\n",
       "</table>\n",
       "<p>600 rows × 11 columns</p>\n",
       "</div>"
      ],
      "text/plain": [
       "                       Latitude and Longitude Class of Land          vh  \\\n",
       "0     (10.323727047081501, 105.2516346045924)          Rice  0.20758393   \n",
       "1    (10.322364360592521, 105.27843410554115)          Rice  0.15551779   \n",
       "2    (10.321455902933202, 105.25254306225168)          Rice  0.21735105   \n",
       "3    (10.324181275911162, 105.25118037576274)          Rice  0.16330516   \n",
       "4    (10.324635504740822, 105.27389181724476)          Rice   0.2314578   \n",
       "..                                        ...           ...         ...   \n",
       "595  (10.013942985253381, 105.67361318732796)      Non Rice  0.19289711   \n",
       "596   (10.01348875642372, 105.67361318732796)      Non Rice  0.26415795   \n",
       "597  (10.013034527594062, 105.67361318732796)      Non Rice  0.32137352   \n",
       "598  (10.012580298764401, 105.67361318732796)      Non Rice   0.2864713   \n",
       "599  (10.012126069934741, 105.67361318732796)      Non Rice   0.2470215   \n",
       "\n",
       "              vv                 rvi    vh_lin    vv_lin    gamma0  \\\n",
       "0     0.06232412  0.8100078204238705  1.048959  1.014454   1.06412   \n",
       "1     0.03757794  0.6985925867387248  1.036458   1.00869  1.045465   \n",
       "2     0.04275458  0.6010337436495468   1.05132  1.009893  1.061721   \n",
       "3     0.03154174  0.5927960744431653  1.038318  1.007289  1.045887   \n",
       "4     0.03876194  0.5310382211650145  1.054741  1.008965  1.064197   \n",
       "..           ...                 ...       ...       ...       ...   \n",
       "595  0.050605137  0.7398829233646299  1.045417   1.01172   1.05767   \n",
       "596  0.054577384  0.6235327090934485  1.062713  1.012646  1.076152   \n",
       "597  0.067015804  0.6278289731235115  1.076806  1.015551  1.093551   \n",
       "598  0.071513124  0.7148091780346641  1.068187  1.016603  1.085922   \n",
       "599   0.05908098  0.6935451890519234  1.058528  1.013697  1.073026   \n",
       "\n",
       "    sigma0_temp  sigma0_temp1    sigma0  \n",
       "0      1.064716      0.027234  0.272337  \n",
       "1      1.045851      0.019470  0.194697  \n",
       "2      1.062579      0.026361  0.263614  \n",
       "3      1.046368      0.019685  0.196845  \n",
       "4      1.065245      0.027449  0.274493  \n",
       "..          ...           ...       ...  \n",
       "595    1.058238      0.024583  0.245833  \n",
       "596    1.077405      0.032379  0.323790  \n",
       "597    1.095427      0.039583  0.395834  \n",
       "598    1.087252      0.036330  0.363302  \n",
       "599    1.074031      0.031017  0.310168  \n",
       "\n",
       "[600 rows x 11 columns]"
      ]
     },
     "execution_count": 51,
     "metadata": {},
     "output_type": "execute_result"
    }
   ],
   "source": [
    "crop_data\n",
    "\n",
    "submission_df.to_csv(\"challenge_1_submission_rice_crop_prediction.csv\",index = False)"
   ]
  },
  {
   "cell_type": "code",
   "execution_count": 72,
   "id": "062ac03d-245d-49af-82d9-56d3ac581e85",
   "metadata": {},
   "outputs": [],
   "source": [
    "X = crop_data.drop(columns=['Class of Land', 'Latitude and Longitude','vv_lin', 'vh_lin', 'sigma0_temp', 'sigma0_temp1', 'sigma0', 'gamma0' ]).values\n",
    "y = crop_data ['Class of Land'].values\n",
    "X_train, X_test, y_train, y_test = train_test_split(X, y, test_size=0.3,stratify=y,random_state=40)\n",
    "\n",
    "#'vv_lin', 'vh_lin', 'sigma0_temp', 'sigma0_temp1'"
   ]
  },
  {
   "cell_type": "code",
   "execution_count": null,
   "id": "3c337d8e-91b1-4a38-906b-9499951ac9c6",
   "metadata": {},
   "outputs": [],
   "source": [
    "\n"
   ]
  },
  {
   "cell_type": "markdown",
   "id": "b031607b-9e71-46c8-beb1-3610ab59c56a",
   "metadata": {},
   "source": [
    "### Feature Scaling "
   ]
  },
  {
   "cell_type": "markdown",
   "id": "3b2140c8-3fed-49a4-b9c5-7378c12c5784",
   "metadata": {},
   "source": [
    "<p align=\"justify\"> Before initiating the model training we may have to execute different data pre-processing steps. Here we are demonstrating the scaling of VV and VH and RVI variable by using Standard Scaler.</p>"
   ]
  },
  {
   "cell_type": "markdown",
   "id": "d859a23d-be08-4a7c-b27b-1a4afb03feb5",
   "metadata": {},
   "source": [
    "<p align = \"justify\">Feature Scaling is a data preprocessing step for numerical features. Many machine learning algorithms like Gradient descent methods, KNN algorithm, linear and logistic regression, etc. require data scaling to produce good results. Scikit learn provides functions that can be used to apply data scaling. Here we are using Standard Scaler.</p>"
   ]
  },
  {
   "cell_type": "markdown",
   "id": "6a85328e-bef5-4b81-b7a0-443557387e0c",
   "metadata": {},
   "source": [
    "<h4 style=\"color:rgb(195, 52, 235)\"><strong>Tip 4 </strong></h4>\n",
    "<p align=\"justify\">Participants might explore other feature scaling techniques like Min Max Scaler, Max Absolute Scaling, Robust Scaling etc.</p>"
   ]
  },
  {
   "cell_type": "code",
   "execution_count": 73,
   "id": "1506aede-aca0-4acc-a9b7-c7547dd9ed0a",
   "metadata": {},
   "outputs": [],
   "source": [
    "sc = StandardScaler()\n",
    "X_train = sc.fit_transform(X_train)\n",
    "X_test = sc.transform(X_test)"
   ]
  },
  {
   "cell_type": "markdown",
   "id": "ed1de27d-2b8b-4a3d-bf83-66f69f435402",
   "metadata": {},
   "source": [
    "### Model Training"
   ]
  },
  {
   "cell_type": "markdown",
   "id": "c3e978bb-a1af-48d7-ae11-6912bbe45adf",
   "metadata": {},
   "source": [
    "<p justify =\"align\">Now that we have the data in a format appropriate for machine learning, we can begin training a model. In this demonstration notebook, we have used a binary logistic regression model from the scikit-learn library. This library offers a wide range of other models, each with the capacity for extensive parameter tuning and customization capabilities.</p>\n",
    "\n",
    "<p justify =\"align\">Scikit-learn models require separation of predictor variables and the response variable. You have to store the predictor variables in array X and the response variable in the array Y. You must make sure not to include the response variable in array X. It also doesn't make sense to use latitude and longitude as predictor variables in such a confined area, so we drop those too.</p>"
   ]
  },
  {
   "cell_type": "code",
   "execution_count": 81,
   "id": "888f7099-afbf-47d5-a214-00ae0e11bf66",
   "metadata": {},
   "outputs": [
    {
     "data": {
      "text/plain": [
       "0.7777777777777778"
      ]
     },
     "execution_count": 81,
     "metadata": {},
     "output_type": "execute_result"
    }
   ],
   "source": [
    "from sklearn.neighbors import KNeighborsClassifier\n",
    "\n",
    "model = KNeighborsClassifier(n_neighbors=3)\n",
    "model.fit(X_train,y_train)\n",
    "accuracy = model.score(X_test, y_test)\n",
    "accuracy"
   ]
  },
  {
   "cell_type": "code",
   "execution_count": 127,
   "id": "366c86a0-4941-47f6-bb99-ef1b26d31b01",
   "metadata": {},
   "outputs": [
    {
     "data": {
      "text/plain": [
       "0.7888888888888889"
      ]
     },
     "execution_count": 127,
     "metadata": {},
     "output_type": "execute_result"
    }
   ],
   "source": [
    "from sklearn.neighbors import KNeighborsClassifier\n",
    "from sklearn.ensemble import VotingClassifier\n",
    "from sklearn.tree import DecisionTreeClassifier\n",
    "#ensemble (use multiple models knn, logistic, and decision trees)\n",
    "from sklearn.ensemble import VotingClassifier\n",
    "model = VotingClassifier([('knn', KNeighborsClassifier(n_neighbors=3)),\n",
    "                          ('logistic', LogisticRegression(max_iter=500)),\n",
    "                        ('tree', DecisionTreeClassifier(max_depth = 3)),\n",
    "                          ('svm', svm.SVC(kernel='rbf', C = 100000, gamma=0.0034))\n",
    "                          ])\n",
    "model.fit(X_train, y_train)\n",
    "accuracy = model.score(X_test, y_test)\n",
    "accuracy"
   ]
  },
  {
   "cell_type": "code",
   "execution_count": 128,
   "id": "4865a1fe-5396-4fc8-91a2-1954d4c2b19d",
   "metadata": {},
   "outputs": [
    {
     "data": {
      "text/plain": [
       "0.8222222222222222"
      ]
     },
     "execution_count": 128,
     "metadata": {},
     "output_type": "execute_result"
    }
   ],
   "source": [
    "from sklearn import svm\n",
    "model = svm.SVC(kernel='rbf', C = 100000, gamma=0.0025)\n",
    "model.fit(X_train, y_train)\n",
    "accuracy = model.score(X_test, y_test)\n",
    "accuracy"
   ]
  },
  {
   "cell_type": "code",
   "execution_count": 132,
   "id": "5044a2f6-b625-439f-9bd3-6ff472e0f204",
   "metadata": {},
   "outputs": [
    {
     "data": {
      "text/plain": [
       "0.7833333333333333"
      ]
     },
     "execution_count": 132,
     "metadata": {},
     "output_type": "execute_result"
    }
   ],
   "source": [
    "from sklearn.ensemble import RandomForestClassifier\n",
    "# n_estimators = number of decision trees\n",
    "model = RandomForestClassifier(n_estimators=100, max_depth=5)\n",
    "model.fit(X_train, y_train)\n",
    "accuracy = model.score(X_test, y_test)\n",
    "accuracy"
   ]
  },
  {
   "cell_type": "markdown",
   "id": "e87f54ac-ccd9-43a0-a53c-3403ee56c43d",
   "metadata": {},
   "source": [
    "## Model Evaluation"
   ]
  },
  {
   "cell_type": "markdown",
   "id": "c940c3e9-caa0-4081-9941-372082cad66b",
   "metadata": {},
   "source": [
    "Now that we have trained our model , all that is left is to evaluate it. For evaluation we will generate the classification report and will plot the confusion matrix. Scikit-learn provides many other metrics that can be used for evaluation. You can even write a code on your own."
   ]
  },
  {
   "cell_type": "markdown",
   "id": "35ad0925-b550-4b26-ae96-2ec160ae3dff",
   "metadata": {
    "tags": []
   },
   "source": [
    "### In-Sample Evaluation\n",
    "<p align=\"Jutisfy\"> We will be generating a classification report and a confusion matrix for the training data. It must be stressed that this is in-sample performance testing , which is the performance testing on the training dataset. These metrics are NOT truly indicative of the model's performance. You should wait to test the model performance on the test data before you feel confident about your model.</p>"
   ]
  },
  {
   "cell_type": "markdown",
   "id": "fab57db4-c7e8-4ff2-ac31-eea3f7eab64f",
   "metadata": {},
   "source": [
    "In this section, we make predictions on the training set and store them in the <b><i>insample_ predictions</i></b> variable. A confusion matrix is generated to gauge the robustness of the model. "
   ]
  },
  {
   "cell_type": "code",
   "execution_count": 112,
   "id": "a7a4196f-226e-4c52-8a64-bc00535bc97c",
   "metadata": {},
   "outputs": [],
   "source": [
    "insample_predictions = model.predict(X_train)"
   ]
  },
  {
   "cell_type": "code",
   "execution_count": 116,
   "id": "e131de89-a22d-4912-9f9b-6c7a12769c6c",
   "metadata": {},
   "outputs": [
    {
     "name": "stdout",
     "output_type": "stream",
     "text": [
      "Insample Accuracy 81.19%\n",
      "              precision    recall  f1-score   support\n",
      "\n",
      "    Non Rice       0.83      0.80      0.82       219\n",
      "        Rice       0.79      0.83      0.81       201\n",
      "\n",
      "    accuracy                           0.81       420\n",
      "   macro avg       0.81      0.81      0.81       420\n",
      "weighted avg       0.81      0.81      0.81       420\n",
      "\n"
     ]
    }
   ],
   "source": [
    "print(\"Insample Accuracy {0:.2f}%\".format(100*accuracy_score(insample_predictions,y_train)))\n",
    "print(classification_report(insample_predictions,y_train))"
   ]
  },
  {
   "cell_type": "markdown",
   "id": "e847aa72-37b8-498b-bd63-4130d1366b7e",
   "metadata": {},
   "source": [
    "<p> For plotting a confusion matrix we define the function <b><i>plot_confusion_matrix</i></b>."
   ]
  },
  {
   "cell_type": "code",
   "execution_count": 67,
   "id": "bb97e054-6e73-4d90-89e2-36ce094721f5",
   "metadata": {},
   "outputs": [],
   "source": [
    "def plot_confusion_matrix(true_value,predicted_value,title,labels):\n",
    "    '''\n",
    "    Plots a confusion matrix.\n",
    "    Attributes:\n",
    "    true_value - The ground truth value for comparision.\n",
    "    predicted_value - The values predicted by the model.\n",
    "    title - Title of the plot.\n",
    "    labels - The x and y labels of the plot.\n",
    "    '''\n",
    "    cm = confusion_matrix(true_value,predicted_value)\n",
    "    ax= plt.subplot()\n",
    "    sns.heatmap(cm, annot=True, fmt='g', ax=ax, cmap='Blues');\n",
    "    ax.set_xlabel('Predicted labels');\n",
    "    ax.set_ylabel('True labels'); \n",
    "    ax.set_title(title); \n",
    "    ax.xaxis.set_ticklabels(labels); \n",
    "    ax.yaxis.set_ticklabels(labels);"
   ]
  },
  {
   "cell_type": "code",
   "execution_count": 46,
   "id": "99c77326-b7d5-4dc4-8101-96bece8aceb2",
   "metadata": {},
   "outputs": [
    {
     "data": {
      "image/png": "[encoded data removed]",
      "text/plain": [
       "<Figure size 640x480 with 2 Axes>"
      ]
     },
     "metadata": {},
     "output_type": "display_data"
    }
   ],
   "source": [
    "plot_confusion_matrix(y_train,insample_predictions,\"Model Level 1: Logistic\\nRegression Model In-Sample Results\",['Rice', 'Non Rice'])"
   ]
  },
  {
   "cell_type": "code",
   "execution_count": 47,
   "id": "cef952b3-0f73-4b65-881a-9d23f9e690b4",
   "metadata": {},
   "outputs": [],
   "source": [
    "#Logistic Regression\n",
    "from sklearn.linear_model import LogisticRegression\n",
    "clf = LogisticRegression(max_iter=500)"
   ]
  },
  {
   "cell_type": "code",
   "execution_count": 48,
   "id": "b1fcd3e3-e7ea-4bf6-95ab-72c36d355e8c",
   "metadata": {},
   "outputs": [],
   "source": [
    "clf.fit(X_train,y_train)\n",
    "insample_predictions2 = clf.predict(X_train)"
   ]
  },
  {
   "cell_type": "code",
   "execution_count": 49,
   "id": "9873cc16-86a7-4cbc-8477-6eac4a8bdc69",
   "metadata": {},
   "outputs": [
    {
     "name": "stdout",
     "output_type": "stream",
     "text": [
      "Insample Accuracy 57.38%\n",
      "              precision    recall  f1-score   support\n",
      "\n",
      "           0       0.51      0.58      0.55       185\n",
      "           1       0.63      0.57      0.60       235\n",
      "\n",
      "    accuracy                           0.57       420\n",
      "   macro avg       0.57      0.57      0.57       420\n",
      "weighted avg       0.58      0.57      0.58       420\n",
      "\n"
     ]
    }
   ],
   "source": [
    "print(\"Insample Accuracy {0:.2f}%\".format(100*accuracy_score(insample_predictions2,y_train)))\n",
    "print(classification_report(insample_predictions2,y_train))"
   ]
  },
  {
   "cell_type": "code",
   "execution_count": 50,
   "id": "65e047e0-f750-419c-9e4e-d7f424d47c1e",
   "metadata": {},
   "outputs": [
    {
     "name": "stdout",
     "output_type": "stream",
     "text": [
      "max_depth = 1: Mean CV score = 0.624\n",
      "max_depth = 2: Mean CV score = 0.655\n",
      "max_depth = 3: Mean CV score = 0.679\n",
      "max_depth = 4: Mean CV score = 0.698\n",
      "max_depth = 5: Mean CV score = 0.674\n",
      "max_depth = 6: Mean CV score = 0.671\n",
      "max_depth = 7: Mean CV score = 0.688\n",
      "max_depth = 8: Mean CV score = 0.650\n",
      "max_depth = 9: Mean CV score = 0.674\n",
      "max_depth = 10: Mean CV score = 0.667\n"
     ]
    }
   ],
   "source": [
    "#decision tree classifier (basic)\n",
    "from sklearn.tree import DecisionTreeClassifier\n",
    "clf = DecisionTreeClassifier()\n",
    "max_depth_values = range(1, 11)\n",
    "cv_scores = []\n",
    "for max_depth in max_depth_values:\n",
    "    clf.set_params(max_depth=max_depth)\n",
    "    scores = cross_val_score(clf, X_train, y_train, cv=5)\n",
    "    cv_scores.append(np.mean(scores))\n",
    "\n",
    "for max_depth, score in zip(max_depth_values, cv_scores):\n",
    "    print(f\"max_depth = {max_depth}: Mean CV score = {score:.3f}\")\n"
   ]
  },
  {
   "cell_type": "code",
   "execution_count": 51,
   "id": "e3493b75-b34d-4119-9228-8b42f7476a6d",
   "metadata": {},
   "outputs": [
    {
     "data": {
      "text/html": [
       "<style>#sk-container-id-2 {color: black;background-color: white;}#sk-container-id-2 pre{padding: 0;}#sk-container-id-2 div.sk-toggleable {background-color: white;}#sk-container-id-2 label.sk-toggleable__label {cursor: pointer;display: block;width: 100%;margin-bottom: 0;padding: 0.3em;box-sizing: border-box;text-align: center;}#sk-container-id-2 label.sk-toggleable__label-arrow:before {content: \"▸\";float: left;margin-right: 0.25em;color: #696969;}#sk-container-id-2 label.sk-toggleable__label-arrow:hover:before {color: black;}#sk-container-id-2 div.sk-estimator:hover label.sk-toggleable__label-arrow:before {color: black;}#sk-container-id-2 div.sk-toggleable__content {max-height: 0;max-width: 0;overflow: hidden;text-align: left;background-color: #f0f8ff;}#sk-container-id-2 div.sk-toggleable__content pre {margin: 0.2em;color: black;border-radius: 0.25em;background-color: #f0f8ff;}#sk-container-id-2 input.sk-toggleable__control:checked~div.sk-toggleable__content {max-height: 200px;max-width: 100%;overflow: auto;}#sk-container-id-2 input.sk-toggleable__control:checked~label.sk-toggleable__label-arrow:before {content: \"▾\";}#sk-container-id-2 div.sk-estimator input.sk-toggleable__control:checked~label.sk-toggleable__label {background-color: #d4ebff;}#sk-container-id-2 div.sk-label input.sk-toggleable__control:checked~label.sk-toggleable__label {background-color: #d4ebff;}#sk-container-id-2 input.sk-hidden--visually {border: 0;clip: rect(1px 1px 1px 1px);clip: rect(1px, 1px, 1px, 1px);height: 1px;margin: -1px;overflow: hidden;padding: 0;position: absolute;width: 1px;}#sk-container-id-2 div.sk-estimator {font-family: monospace;background-color: #f0f8ff;border: 1px dotted black;border-radius: 0.25em;box-sizing: border-box;margin-bottom: 0.5em;}#sk-container-id-2 div.sk-estimator:hover {background-color: #d4ebff;}#sk-container-id-2 div.sk-parallel-item::after {content: \"\";width: 100%;border-bottom: 1px solid gray;flex-grow: 1;}#sk-container-id-2 div.sk-label:hover label.sk-toggleable__label {background-color: #d4ebff;}#sk-container-id-2 div.sk-serial::before {content: \"\";position: absolute;border-left: 1px solid gray;box-sizing: border-box;top: 0;bottom: 0;left: 50%;z-index: 0;}#sk-container-id-2 div.sk-serial {display: flex;flex-direction: column;align-items: center;background-color: white;padding-right: 0.2em;padding-left: 0.2em;position: relative;}#sk-container-id-2 div.sk-item {position: relative;z-index: 1;}#sk-container-id-2 div.sk-parallel {display: flex;align-items: stretch;justify-content: center;background-color: white;position: relative;}#sk-container-id-2 div.sk-item::before, #sk-container-id-2 div.sk-parallel-item::before {content: \"\";position: absolute;border-left: 1px solid gray;box-sizing: border-box;top: 0;bottom: 0;left: 50%;z-index: -1;}#sk-container-id-2 div.sk-parallel-item {display: flex;flex-direction: column;z-index: 1;position: relative;background-color: white;}#sk-container-id-2 div.sk-parallel-item:first-child::after {align-self: flex-end;width: 50%;}#sk-container-id-2 div.sk-parallel-item:last-child::after {align-self: flex-start;width: 50%;}#sk-container-id-2 div.sk-parallel-item:only-child::after {width: 0;}#sk-container-id-2 div.sk-dashed-wrapped {border: 1px dashed gray;margin: 0 0.4em 0.5em 0.4em;box-sizing: border-box;padding-bottom: 0.4em;background-color: white;}#sk-container-id-2 div.sk-label label {font-family: monospace;font-weight: bold;display: inline-block;line-height: 1.2em;}#sk-container-id-2 div.sk-label-container {text-align: center;}#sk-container-id-2 div.sk-container {/* jupyter's `normalize.less` sets `[hidden] { display: none; }` but bootstrap.min.css set `[hidden] { display: none !important; }` so we also need the `!important` here to be able to override the default hidden behavior on the sphinx rendered scikit-learn.org. See: https://github.com/scikit-learn/scikit-learn/issues/21755 */display: inline-block !important;position: relative;}#sk-container-id-2 div.sk-text-repr-fallback {display: none;}</style><div id=\"sk-container-id-2\" class=\"sk-top-container\"><div class=\"sk-text-repr-fallback\"><pre>DecisionTreeClassifier(max_depth=3)</pre><b>In a Jupyter environment, please rerun this cell to show the HTML representation or trust the notebook. <br />On GitHub, the HTML representation is unable to render, please try loading this page with nbviewer.org.</b></div><div class=\"sk-container\" hidden><div class=\"sk-item\"><div class=\"sk-estimator sk-toggleable\"><input class=\"sk-toggleable__control sk-hidden--visually\" id=\"sk-estimator-id-2\" type=\"checkbox\" checked><label for=\"sk-estimator-id-2\" class=\"sk-toggleable__label sk-toggleable__label-arrow\">DecisionTreeClassifier</label><div class=\"sk-toggleable__content\"><pre>DecisionTreeClassifier(max_depth=3)</pre></div></div></div></div></div>"
      ],
      "text/plain": [
       "DecisionTreeClassifier(max_depth=3)"
      ]
     },
     "execution_count": 51,
     "metadata": {},
     "output_type": "execute_result"
    }
   ],
   "source": [
    "clf = DecisionTreeClassifier(max_depth = 3)\n",
    "clf = clf.fit(X_train,y_train)\n",
    "clf.fit(X_train,y_train)"
   ]
  },
  {
   "cell_type": "code",
   "execution_count": 52,
   "id": "7831eddd-7814-45dc-b085-2ae45c7aa4ce",
   "metadata": {},
   "outputs": [],
   "source": [
    "insample_predictions3 = clf.predict(X_train)"
   ]
  },
  {
   "cell_type": "code",
   "execution_count": 53,
   "id": "a2572996-4d6c-486c-99dc-8a4a98337bd7",
   "metadata": {},
   "outputs": [
    {
     "name": "stdout",
     "output_type": "stream",
     "text": [
      "Insample Accuracy 72.86%\n",
      "              precision    recall  f1-score   support\n",
      "\n",
      "           0       0.67      0.76      0.71       186\n",
      "           1       0.79      0.71      0.74       234\n",
      "\n",
      "    accuracy                           0.73       420\n",
      "   macro avg       0.73      0.73      0.73       420\n",
      "weighted avg       0.74      0.73      0.73       420\n",
      "\n"
     ]
    }
   ],
   "source": [
    "print(\"Insample Accuracy {0:.2f}%\".format(100*accuracy_score(insample_predictions3,y_train)))\n",
    "print(classification_report(insample_predictions3,y_train))"
   ]
  },
  {
   "cell_type": "code",
   "execution_count": 54,
   "id": "2c88c742-098a-4422-ba3f-7d47324d5d21",
   "metadata": {},
   "outputs": [
    {
     "name": "stdout",
     "output_type": "stream",
     "text": [
      "Accuracy 66.67%\n",
      "              precision    recall  f1-score   support\n",
      "\n",
      "           0       0.72      0.54      0.62        90\n",
      "           1       0.63      0.79      0.70        90\n",
      "\n",
      "    accuracy                           0.67       180\n",
      "   macro avg       0.68      0.67      0.66       180\n",
      "weighted avg       0.68      0.67      0.66       180\n",
      "\n"
     ]
    }
   ],
   "source": [
    "outsample_predictions3 = clf.predict(X_test)\n",
    "print(\"Accuracy {0:.2f}%\".format(100*accuracy_score(outsample_predictions3, y_test)))\n",
    "print(classification_report(y_test, outsample_predictions3))"
   ]
  },
  {
   "cell_type": "code",
   "execution_count": 50,
   "id": "4e1ba737-0103-4bbc-ada0-721329db1b25",
   "metadata": {},
   "outputs": [
    {
     "data": {
      "text/plain": [
       "0.8055555555555556"
      ]
     },
     "execution_count": 50,
     "metadata": {},
     "output_type": "execute_result"
    }
   ],
   "source": [
    "#ensemble (use multiple models knn, logistic, and decision trees)\n",
    "from sklearn.ensemble import VotingClassifier\n",
    "voter = VotingClassifier([('knn', KNeighborsClassifier(n_neighbors=3)),\n",
    "                          ('logistic', LogisticRegression(max_iter=500)),\n",
    "                          ('tree', DecisionTreeClassifier(max_depth = 3)),\n",
    "                          ])\n",
    "voter.fit(X_train, y_train)\n",
    "accuracy = voter.score(X_test, y_test)\n",
    "accuracy\n"
   ]
  },
  {
   "cell_type": "code",
   "execution_count": 56,
   "id": "e7dde258-765c-49bb-ac57-baefaf1577ca",
   "metadata": {},
   "outputs": [
    {
     "name": "stdout",
     "output_type": "stream",
     "text": [
      "Accuracy 66.67%\n",
      "              precision    recall  f1-score   support\n",
      "\n",
      "           0       0.70      0.59      0.64        90\n",
      "           1       0.64      0.74      0.69        90\n",
      "\n",
      "    accuracy                           0.67       180\n",
      "   macro avg       0.67      0.67      0.66       180\n",
      "weighted avg       0.67      0.67      0.66       180\n",
      "\n"
     ]
    }
   ],
   "source": [
    "outsample_predictions4 = voter.predict(X_test)\n",
    "print(\"Accuracy {0:.2f}%\".format(100*accuracy_score(outsample_predictions4, y_test)))\n",
    "print(classification_report(y_test, outsample_predictions4))"
   ]
  },
  {
   "cell_type": "code",
   "execution_count": 57,
   "id": "12450e13-86ae-4aa1-a2bd-2c37a2fad527",
   "metadata": {},
   "outputs": [],
   "source": [
    "#import random forest\n",
    "from sklearn.ensemble import RandomForestClassifier\n",
    "#pipeline\n",
    "forest = RandomForestClassifier(max_depth = 3)\n",
    "forest.fit(X_train, y_train)\n",
    "insample_predictions5 = forest.predict(X_train)"
   ]
  },
  {
   "cell_type": "code",
   "execution_count": 58,
   "id": "7b9e2dd6-0801-4865-8923-1644bef4fb7a",
   "metadata": {},
   "outputs": [
    {
     "name": "stdout",
     "output_type": "stream",
     "text": [
      "Insample Accuracy 75.24%\n",
      "              precision    recall  f1-score   support\n",
      "\n",
      "           0       0.77      0.75      0.76       216\n",
      "           1       0.74      0.76      0.75       204\n",
      "\n",
      "    accuracy                           0.75       420\n",
      "   macro avg       0.75      0.75      0.75       420\n",
      "weighted avg       0.75      0.75      0.75       420\n",
      "\n"
     ]
    }
   ],
   "source": [
    "print(\"Insample Accuracy {0:.2f}%\".format(100*accuracy_score(insample_predictions5,y_train)))\n",
    "print(classification_report(insample_predictions5,y_train))"
   ]
  },
  {
   "cell_type": "code",
   "execution_count": 59,
   "id": "de2da529-bcca-4d3c-b868-39a3f52ffd9f",
   "metadata": {},
   "outputs": [
    {
     "name": "stdout",
     "output_type": "stream",
     "text": [
      "Accuracy 66.67%\n",
      "              precision    recall  f1-score   support\n",
      "\n",
      "           0       0.70      0.58      0.63        90\n",
      "           1       0.64      0.76      0.69        90\n",
      "\n",
      "    accuracy                           0.67       180\n",
      "   macro avg       0.67      0.67      0.66       180\n",
      "weighted avg       0.67      0.67      0.66       180\n",
      "\n"
     ]
    }
   ],
   "source": [
    "outsample_predictions5 = forest.predict(X_test)\n",
    "print(\"Accuracy {0:.2f}%\".format(100*accuracy_score(outsample_predictions5, y_test)))\n",
    "print(classification_report(y_test, outsample_predictions5))"
   ]
  },
  {
   "cell_type": "code",
   "execution_count": null,
   "id": "051d7c87-4ca5-4c8a-9441-589f80a6f959",
   "metadata": {},
   "outputs": [],
   "source": []
  },
  {
   "cell_type": "code",
   "execution_count": 63,
   "id": "046aeb73-29fd-4657-bfe7-1b90408f8422",
   "metadata": {},
   "outputs": [
    {
     "name": "stdout",
     "output_type": "stream",
     "text": [
      "Requirement already satisfied: xgboost in /Users/ashoktimsina/anaconda3/lib/python3.9/site-packages (1.7.4)\n",
      "Requirement already satisfied: numpy in /Users/ashoktimsina/anaconda3/lib/python3.9/site-packages (from xgboost) (1.24.2)\n",
      "Requirement already satisfied: scipy in /Users/ashoktimsina/anaconda3/lib/python3.9/site-packages (from xgboost) (1.10.1)\n"
     ]
    }
   ],
   "source": [
    "!pip install xgboost\n",
    "#xgboost\n",
    "import xgboost as xgb\n",
    "#instantiate classifier \n",
    "xboost = xgb.XGBClassifier(n_estimators = 10, max_depth = 3)\n",
    "xboost.fit(X_train, y_train)\n",
    "insample_predictions6 = xboost.predict(X_train)"
   ]
  },
  {
   "cell_type": "code",
   "execution_count": 64,
   "id": "7a527a9c-867d-41b9-91d9-b7a5ef6d914b",
   "metadata": {},
   "outputs": [
    {
     "name": "stdout",
     "output_type": "stream",
     "text": [
      "Insample Accuracy 76.19%\n",
      "              precision    recall  f1-score   support\n",
      "\n",
      "           0       0.80      0.74      0.77       226\n",
      "           1       0.72      0.78      0.75       194\n",
      "\n",
      "    accuracy                           0.76       420\n",
      "   macro avg       0.76      0.76      0.76       420\n",
      "weighted avg       0.76      0.76      0.76       420\n",
      "\n"
     ]
    }
   ],
   "source": [
    "print(\"Insample Accuracy {0:.2f}%\".format(100*accuracy_score(insample_predictions6,y_train)))\n",
    "print(classification_report(insample_predictions6,y_train))"
   ]
  },
  {
   "cell_type": "code",
   "execution_count": 65,
   "id": "36a55121-b599-42a8-8898-6b0cd3d7127b",
   "metadata": {},
   "outputs": [
    {
     "name": "stdout",
     "output_type": "stream",
     "text": [
      "Accuracy 63.33%\n",
      "              precision    recall  f1-score   support\n",
      "\n",
      "           0       0.70      0.58      0.63        90\n",
      "           1       0.64      0.76      0.69        90\n",
      "\n",
      "    accuracy                           0.67       180\n",
      "   macro avg       0.67      0.67      0.66       180\n",
      "weighted avg       0.67      0.67      0.66       180\n",
      "\n"
     ]
    }
   ],
   "source": [
    "outsample_predictions6 = xboost.predict(X_test)\n",
    "print(\"Accuracy {0:.2f}%\".format(100*accuracy_score(outsample_predictions6, y_test)))\n",
    "print(classification_report(y_test, outsample_predictions5))"
   ]
  },
  {
   "cell_type": "markdown",
   "id": "e4fd9f2d-1add-499a-b692-f616ec02871d",
   "metadata": {},
   "source": [
    "### Out-Sample Evaluation"
   ]
  },
  {
   "cell_type": "markdown",
   "id": "5a9e1681-0cae-42c1-ad00-0ad3bb7eca71",
   "metadata": {},
   "source": [
    "When evaluating a machine learning model, it is essential to correctly and fairly evaluate the model's ability to generalize. This is because models have a tendency to overfit the dataset they are trained on. To estimate the out-of-sample performance, we will predict on the test data now. "
   ]
  },
  {
   "cell_type": "code",
   "execution_count": 68,
   "id": "0d7324d1-35fd-463f-9734-f2ad1552ae52",
   "metadata": {},
   "outputs": [],
   "source": [
    "outsample_predictions = model.predict(X_test)"
   ]
  },
  {
   "cell_type": "code",
   "execution_count": 69,
   "id": "4fdec320-a85c-49b9-8177-a65d5b85317a",
   "metadata": {},
   "outputs": [
    {
     "name": "stdout",
     "output_type": "stream",
     "text": [
      "Accuracy 78.89%\n",
      "              precision    recall  f1-score   support\n",
      "\n",
      "    Non Rice       0.74      0.89      0.81        90\n",
      "        Rice       0.86      0.69      0.77        90\n",
      "\n",
      "    accuracy                           0.79       180\n",
      "   macro avg       0.80      0.79      0.79       180\n",
      "weighted avg       0.80      0.79      0.79       180\n",
      "\n"
     ]
    }
   ],
   "source": [
    "print(\"Accuracy {0:.2f}%\".format(100*accuracy_score(outsample_predictions, y_test)))\n",
    "print(classification_report(y_test, outsample_predictions))"
   ]
  },
  {
   "cell_type": "code",
   "execution_count": 70,
   "id": "da5ed827-f3b8-47a2-865c-61bd2cd9621c",
   "metadata": {},
   "outputs": [
    {
     "data": {
      "image/png": "[encoded data removed]",
      "text/plain": [
       "<Figure size 640x480 with 2 Axes>"
      ]
     },
     "metadata": {},
     "output_type": "display_data"
    }
   ],
   "source": [
    "plot_confusion_matrix(y_test, outsample_predictions,\"Model Level 1: Logistic\\nRegression Model Out-Sample Results\",['Rice', 'Non Rice'])"
   ]
  },
  {
   "cell_type": "markdown",
   "id": "0f0bd4a4-5976-4a37-8f5b-fe46cf841e1f",
   "metadata": {},
   "source": [
    "From the above, we see that the model is able to achieve an F1 score of <b>0.57</b>. This is not a very good score, so your goal is to improve this score.  "
   ]
  },
  {
   "cell_type": "code",
   "execution_count": 69,
   "id": "75f2262f-c46c-42c7-8924-ad3b2097ada5",
   "metadata": {},
   "outputs": [],
   "source": [
    "#Using Cross-Validation to find optimal K\n",
    "k_values = [i for i in range (1,31)]\n",
    "scores = []\n",
    "scaler = StandardScaler()\n",
    "X = scaler.fit_transform(X)\n",
    "\n",
    "for k in k_values:\n",
    "    knn = KNeighborsClassifier(n_neighbors=k)\n",
    "    score = cross_val_score(knn, X, y, cv=5)\n",
    "    scores.append(np.mean(score))"
   ]
  },
  {
   "cell_type": "code",
   "execution_count": 70,
   "id": "1d5b08cb-d928-43b9-a2f6-1eefaf73d2f7",
   "metadata": {},
   "outputs": [
    {
     "data": {
      "text/plain": [
       "Text(0, 0.5, 'Accuracy Score')"
      ]
     },
     "execution_count": 70,
     "metadata": {},
     "output_type": "execute_result"
    },
    {
     "data": {
      "image/png": "[encoded data removed]",
      "text/plain": [
       "<Figure size 640x480 with 1 Axes>"
      ]
     },
     "metadata": {},
     "output_type": "display_data"
    }
   ],
   "source": [
    "sns.lineplot(x = k_values, y = scores, marker = 'o')\n",
    "plt.xlabel(\"K Values\")\n",
    "plt.ylabel(\"Accuracy Score\")"
   ]
  },
  {
   "cell_type": "markdown",
   "id": "2629f3f5-5a51-45d7-9c68-75b969101405",
   "metadata": {},
   "source": [
    "## Submission"
   ]
  },
  {
   "cell_type": "markdown",
   "id": "287c178f-1113-4456-b1c6-3188273bc1f3",
   "metadata": {},
   "source": [
    "Once you are happy with your model, you can make a submission. To make a submission, you will need to use your model to make predictions about the presence of rice crops for a set of test coordinates we have provided in the <a href=\"https://challenge.ey.com/api/v1/storage/admin-files/6847912254281276-63ca8b5ab12e510013520e2b-challenge_1_submission_template.csv\"><b>\"challenge_1_submission_template.csv\"</b></a> file and upload the file onto the challenge platform."
   ]
  },
  {
   "cell_type": "code",
   "execution_count": 71,
   "id": "c1fc4682-5a87-4ccb-9b4d-877221e397e9",
   "metadata": {},
   "outputs": [
    {
     "data": {
      "text/html": [
       "<div>\n",
       "<style scoped>\n",
       "    .dataframe tbody tr th:only-of-type {\n",
       "        vertical-align: middle;\n",
       "    }\n",
       "\n",
       "    .dataframe tbody tr th {\n",
       "        vertical-align: top;\n",
       "    }\n",
       "\n",
       "    .dataframe thead th {\n",
       "        text-align: right;\n",
       "    }\n",
       "</style>\n",
       "<table border=\"1\" class=\"dataframe\">\n",
       "  <thead>\n",
       "    <tr style=\"text-align: right;\">\n",
       "      <th></th>\n",
       "      <th>id</th>\n",
       "      <th>target</th>\n",
       "    </tr>\n",
       "  </thead>\n",
       "  <tbody>\n",
       "    <tr>\n",
       "      <th>0</th>\n",
       "      <td>(10.18019073690894, 105.32022315786804)</td>\n",
       "      <td>NaN</td>\n",
       "    </tr>\n",
       "    <tr>\n",
       "      <th>1</th>\n",
       "      <td>(10.561107033461816, 105.12772097986661)</td>\n",
       "      <td>NaN</td>\n",
       "    </tr>\n",
       "    <tr>\n",
       "      <th>2</th>\n",
       "      <td>(10.623790611954897, 105.13771401411867)</td>\n",
       "      <td>NaN</td>\n",
       "    </tr>\n",
       "    <tr>\n",
       "      <th>3</th>\n",
       "      <td>(10.583364246115156, 105.23946127195805)</td>\n",
       "      <td>NaN</td>\n",
       "    </tr>\n",
       "    <tr>\n",
       "      <th>4</th>\n",
       "      <td>(10.20744446668854, 105.26844107128906)</td>\n",
       "      <td>NaN</td>\n",
       "    </tr>\n",
       "  </tbody>\n",
       "</table>\n",
       "</div>"
      ],
      "text/plain": [
       "                                         id  target\n",
       "0   (10.18019073690894, 105.32022315786804)     NaN\n",
       "1  (10.561107033461816, 105.12772097986661)     NaN\n",
       "2  (10.623790611954897, 105.13771401411867)     NaN\n",
       "3  (10.583364246115156, 105.23946127195805)     NaN\n",
       "4   (10.20744446668854, 105.26844107128906)     NaN"
      ]
     },
     "execution_count": 71,
     "metadata": {},
     "output_type": "execute_result"
    }
   ],
   "source": [
    "#Reading the coordinates for the submission\n",
    "test_file = pd.read_csv('challenge_1_submission_template.csv')\n",
    "test_file.head()"
   ]
  },
  {
   "cell_type": "code",
   "execution_count": 72,
   "id": "c0c5e29a-3bfa-4f5e-ac00-ffbf6b18033e",
   "metadata": {},
   "outputs": [
    {
     "ename": "KeyError",
     "evalue": "'Latitude and Longitude'",
     "output_type": "error",
     "traceback": [
      "\u001b[0;31m---------------------------------------------------------------------------\u001b[0m",
      "\u001b[0;31mKeyError\u001b[0m                                  Traceback (most recent call last)",
      "File \u001b[0;32m~/anaconda3/lib/python3.9/site-packages/pandas/core/indexes/base.py:3629\u001b[0m, in \u001b[0;36mIndex.get_loc\u001b[0;34m(self, key, method, tolerance)\u001b[0m\n\u001b[1;32m   3628\u001b[0m \u001b[38;5;28;01mtry\u001b[39;00m:\n\u001b[0;32m-> 3629\u001b[0m     \u001b[38;5;28;01mreturn\u001b[39;00m \u001b[38;5;28;43mself\u001b[39;49m\u001b[38;5;241;43m.\u001b[39;49m\u001b[43m_engine\u001b[49m\u001b[38;5;241;43m.\u001b[39;49m\u001b[43mget_loc\u001b[49m\u001b[43m(\u001b[49m\u001b[43mcasted_key\u001b[49m\u001b[43m)\u001b[49m\n\u001b[1;32m   3630\u001b[0m \u001b[38;5;28;01mexcept\u001b[39;00m \u001b[38;5;167;01mKeyError\u001b[39;00m \u001b[38;5;28;01mas\u001b[39;00m err:\n",
      "File \u001b[0;32m~/anaconda3/lib/python3.9/site-packages/pandas/_libs/index.pyx:136\u001b[0m, in \u001b[0;36mpandas._libs.index.IndexEngine.get_loc\u001b[0;34m()\u001b[0m\n",
      "File \u001b[0;32m~/anaconda3/lib/python3.9/site-packages/pandas/_libs/index.pyx:163\u001b[0m, in \u001b[0;36mpandas._libs.index.IndexEngine.get_loc\u001b[0;34m()\u001b[0m\n",
      "File \u001b[0;32mpandas/_libs/hashtable_class_helper.pxi:5198\u001b[0m, in \u001b[0;36mpandas._libs.hashtable.PyObjectHashTable.get_item\u001b[0;34m()\u001b[0m\n",
      "File \u001b[0;32mpandas/_libs/hashtable_class_helper.pxi:5206\u001b[0m, in \u001b[0;36mpandas._libs.hashtable.PyObjectHashTable.get_item\u001b[0;34m()\u001b[0m\n",
      "\u001b[0;31mKeyError\u001b[0m: 'Latitude and Longitude'",
      "\nThe above exception was the direct cause of the following exception:\n",
      "\u001b[0;31mKeyError\u001b[0m                                  Traceback (most recent call last)",
      "Input \u001b[0;32mIn [72]\u001b[0m, in \u001b[0;36m<cell line: 5>\u001b[0;34m()\u001b[0m\n\u001b[1;32m      3\u001b[0m assests \u001b[38;5;241m=\u001b[39m [\u001b[38;5;124m'\u001b[39m\u001b[38;5;124mvh\u001b[39m\u001b[38;5;124m'\u001b[39m,\u001b[38;5;124m'\u001b[39m\u001b[38;5;124mvv\u001b[39m\u001b[38;5;124m'\u001b[39m]\n\u001b[1;32m      4\u001b[0m vh_vv \u001b[38;5;241m=\u001b[39m []\n\u001b[0;32m----> 5\u001b[0m \u001b[38;5;28;01mfor\u001b[39;00m coordinates \u001b[38;5;129;01min\u001b[39;00m tqdm(\u001b[43mtest_file\u001b[49m\u001b[43m[\u001b[49m\u001b[38;5;124;43m'\u001b[39;49m\u001b[38;5;124;43mLatitude and Longitude\u001b[39;49m\u001b[38;5;124;43m'\u001b[39;49m\u001b[43m]\u001b[49m):\n\u001b[1;32m      6\u001b[0m     vh_vv\u001b[38;5;241m.\u001b[39mappend(get_sentinel_data(coordinates,time_slice,assests))\n\u001b[1;32m      7\u001b[0m submission_vh_vv_data \u001b[38;5;241m=\u001b[39m pd\u001b[38;5;241m.\u001b[39mDataFrame(vh_vv,columns \u001b[38;5;241m=\u001b[39m[\u001b[38;5;124m'\u001b[39m\u001b[38;5;124mvh\u001b[39m\u001b[38;5;124m'\u001b[39m,\u001b[38;5;124m'\u001b[39m\u001b[38;5;124mvv\u001b[39m\u001b[38;5;124m'\u001b[39m])\n",
      "File \u001b[0;32m~/anaconda3/lib/python3.9/site-packages/pandas/core/frame.py:3505\u001b[0m, in \u001b[0;36mDataFrame.__getitem__\u001b[0;34m(self, key)\u001b[0m\n\u001b[1;32m   3503\u001b[0m \u001b[38;5;28;01mif\u001b[39;00m \u001b[38;5;28mself\u001b[39m\u001b[38;5;241m.\u001b[39mcolumns\u001b[38;5;241m.\u001b[39mnlevels \u001b[38;5;241m>\u001b[39m \u001b[38;5;241m1\u001b[39m:\n\u001b[1;32m   3504\u001b[0m     \u001b[38;5;28;01mreturn\u001b[39;00m \u001b[38;5;28mself\u001b[39m\u001b[38;5;241m.\u001b[39m_getitem_multilevel(key)\n\u001b[0;32m-> 3505\u001b[0m indexer \u001b[38;5;241m=\u001b[39m \u001b[38;5;28;43mself\u001b[39;49m\u001b[38;5;241;43m.\u001b[39;49m\u001b[43mcolumns\u001b[49m\u001b[38;5;241;43m.\u001b[39;49m\u001b[43mget_loc\u001b[49m\u001b[43m(\u001b[49m\u001b[43mkey\u001b[49m\u001b[43m)\u001b[49m\n\u001b[1;32m   3506\u001b[0m \u001b[38;5;28;01mif\u001b[39;00m is_integer(indexer):\n\u001b[1;32m   3507\u001b[0m     indexer \u001b[38;5;241m=\u001b[39m [indexer]\n",
      "File \u001b[0;32m~/anaconda3/lib/python3.9/site-packages/pandas/core/indexes/base.py:3631\u001b[0m, in \u001b[0;36mIndex.get_loc\u001b[0;34m(self, key, method, tolerance)\u001b[0m\n\u001b[1;32m   3629\u001b[0m     \u001b[38;5;28;01mreturn\u001b[39;00m \u001b[38;5;28mself\u001b[39m\u001b[38;5;241m.\u001b[39m_engine\u001b[38;5;241m.\u001b[39mget_loc(casted_key)\n\u001b[1;32m   3630\u001b[0m \u001b[38;5;28;01mexcept\u001b[39;00m \u001b[38;5;167;01mKeyError\u001b[39;00m \u001b[38;5;28;01mas\u001b[39;00m err:\n\u001b[0;32m-> 3631\u001b[0m     \u001b[38;5;28;01mraise\u001b[39;00m \u001b[38;5;167;01mKeyError\u001b[39;00m(key) \u001b[38;5;28;01mfrom\u001b[39;00m \u001b[38;5;21;01merr\u001b[39;00m\n\u001b[1;32m   3632\u001b[0m \u001b[38;5;28;01mexcept\u001b[39;00m \u001b[38;5;167;01mTypeError\u001b[39;00m:\n\u001b[1;32m   3633\u001b[0m     \u001b[38;5;66;03m# If we have a listlike key, _check_indexing_error will raise\u001b[39;00m\n\u001b[1;32m   3634\u001b[0m     \u001b[38;5;66;03m#  InvalidIndexError. Otherwise we fall through and re-raise\u001b[39;00m\n\u001b[1;32m   3635\u001b[0m     \u001b[38;5;66;03m#  the TypeError.\u001b[39;00m\n\u001b[1;32m   3636\u001b[0m     \u001b[38;5;28mself\u001b[39m\u001b[38;5;241m.\u001b[39m_check_indexing_error(key)\n",
      "\u001b[0;31mKeyError\u001b[0m: 'Latitude and Longitude'"
     ]
    }
   ],
   "source": [
    "## Get Sentinel-1-RTC Data\n",
    "time_slice = \"2020-03-20/2020-03-21\"\n",
    "assests = ['vh','vv']\n",
    "vh_vv = []\n",
    "for coordinates in tqdm(test_file['Latitude and Longitude']):\n",
    "    vh_vv.append(get_sentinel_data(coordinates,time_slice,assests))\n",
    "submission_vh_vv_data = pd.DataFrame(vh_vv,columns =['vh','vv'])"
   ]
  },
  {
   "cell_type": "code",
   "execution_count": 73,
   "id": "08b02ce9-ef4b-4e96-b895-cabca85f2860",
   "metadata": {},
   "outputs": [
    {
     "ename": "NameError",
     "evalue": "name 'submission_vh_vv_data' is not defined",
     "output_type": "error",
     "traceback": [
      "\u001b[0;31m---------------------------------------------------------------------------\u001b[0m",
      "\u001b[0;31mNameError\u001b[0m                                 Traceback (most recent call last)",
      "Input \u001b[0;32mIn [73]\u001b[0m, in \u001b[0;36m<cell line: 1>\u001b[0;34m()\u001b[0m\n\u001b[0;32m----> 1\u001b[0m \u001b[43msubmission_vh_vv_data\u001b[49m\u001b[38;5;241m.\u001b[39mhead()\n",
      "\u001b[0;31mNameError\u001b[0m: name 'submission_vh_vv_data' is not defined"
     ]
    }
   ],
   "source": [
    "submission_vh_vv_data.head()"
   ]
  },
  {
   "cell_type": "code",
   "execution_count": 74,
   "id": "2cb45aca-974a-41e1-a522-36ca202d9af5",
   "metadata": {},
   "outputs": [
    {
     "ename": "NameError",
     "evalue": "name 'submission_vh_vv_data' is not defined",
     "output_type": "error",
     "traceback": [
      "\u001b[0;31m---------------------------------------------------------------------------\u001b[0m",
      "\u001b[0;31mNameError\u001b[0m                                 Traceback (most recent call last)",
      "Input \u001b[0;32mIn [74]\u001b[0m, in \u001b[0;36m<cell line: 2>\u001b[0;34m()\u001b[0m\n\u001b[1;32m      1\u001b[0m \u001b[38;5;66;03m# Feature Scaling \u001b[39;00m\n\u001b[0;32m----> 2\u001b[0m submission_vh_vv_data \u001b[38;5;241m=\u001b[39m \u001b[43msubmission_vh_vv_data\u001b[49m\u001b[38;5;241m.\u001b[39mvalues\n\u001b[1;32m      3\u001b[0m transformed_submission_data \u001b[38;5;241m=\u001b[39m sc\u001b[38;5;241m.\u001b[39mtransform(submission_vh_vv_data)\n",
      "\u001b[0;31mNameError\u001b[0m: name 'submission_vh_vv_data' is not defined"
     ]
    }
   ],
   "source": [
    "# Feature Scaling \n",
    "submission_vh_vv_data = submission_vh_vv_data.values\n",
    "transformed_submission_data = sc.transform(submission_vh_vv_data)"
   ]
  },
  {
   "cell_type": "code",
   "execution_count": 75,
   "id": "ecc34e3a-bfc1-49a0-94bb-ee1e540abe98",
   "metadata": {},
   "outputs": [
    {
     "ename": "NameError",
     "evalue": "name 'transformed_submission_data' is not defined",
     "output_type": "error",
     "traceback": [
      "\u001b[0;31m---------------------------------------------------------------------------\u001b[0m",
      "\u001b[0;31mNameError\u001b[0m                                 Traceback (most recent call last)",
      "Input \u001b[0;32mIn [75]\u001b[0m, in \u001b[0;36m<cell line: 2>\u001b[0;34m()\u001b[0m\n\u001b[1;32m      1\u001b[0m \u001b[38;5;66;03m#Making predictions\u001b[39;00m\n\u001b[0;32m----> 2\u001b[0m final_predictions \u001b[38;5;241m=\u001b[39m model\u001b[38;5;241m.\u001b[39mpredict(\u001b[43mtransformed_submission_data\u001b[49m)\n\u001b[1;32m      3\u001b[0m final_prediction_series \u001b[38;5;241m=\u001b[39m pd\u001b[38;5;241m.\u001b[39mSeries(final_predictions)\n",
      "\u001b[0;31mNameError\u001b[0m: name 'transformed_submission_data' is not defined"
     ]
    }
   ],
   "source": [
    "#Making predictions\n",
    "final_predictions = model.predict(transformed_submission_data)\n",
    "final_prediction_series = pd.Series(final_predictions)"
   ]
  },
  {
   "cell_type": "code",
   "execution_count": 76,
   "id": "0375e4cd-fdb0-4b82-8508-6ff022061cf9",
   "metadata": {},
   "outputs": [
    {
     "ename": "KeyError",
     "evalue": "'Latitude and Longitude'",
     "output_type": "error",
     "traceback": [
      "\u001b[0;31m---------------------------------------------------------------------------\u001b[0m",
      "\u001b[0;31mKeyError\u001b[0m                                  Traceback (most recent call last)",
      "File \u001b[0;32m~/anaconda3/lib/python3.9/site-packages/pandas/core/indexes/base.py:3629\u001b[0m, in \u001b[0;36mIndex.get_loc\u001b[0;34m(self, key, method, tolerance)\u001b[0m\n\u001b[1;32m   3628\u001b[0m \u001b[38;5;28;01mtry\u001b[39;00m:\n\u001b[0;32m-> 3629\u001b[0m     \u001b[38;5;28;01mreturn\u001b[39;00m \u001b[38;5;28;43mself\u001b[39;49m\u001b[38;5;241;43m.\u001b[39;49m\u001b[43m_engine\u001b[49m\u001b[38;5;241;43m.\u001b[39;49m\u001b[43mget_loc\u001b[49m\u001b[43m(\u001b[49m\u001b[43mcasted_key\u001b[49m\u001b[43m)\u001b[49m\n\u001b[1;32m   3630\u001b[0m \u001b[38;5;28;01mexcept\u001b[39;00m \u001b[38;5;167;01mKeyError\u001b[39;00m \u001b[38;5;28;01mas\u001b[39;00m err:\n",
      "File \u001b[0;32m~/anaconda3/lib/python3.9/site-packages/pandas/_libs/index.pyx:136\u001b[0m, in \u001b[0;36mpandas._libs.index.IndexEngine.get_loc\u001b[0;34m()\u001b[0m\n",
      "File \u001b[0;32m~/anaconda3/lib/python3.9/site-packages/pandas/_libs/index.pyx:163\u001b[0m, in \u001b[0;36mpandas._libs.index.IndexEngine.get_loc\u001b[0;34m()\u001b[0m\n",
      "File \u001b[0;32mpandas/_libs/hashtable_class_helper.pxi:5198\u001b[0m, in \u001b[0;36mpandas._libs.hashtable.PyObjectHashTable.get_item\u001b[0;34m()\u001b[0m\n",
      "File \u001b[0;32mpandas/_libs/hashtable_class_helper.pxi:5206\u001b[0m, in \u001b[0;36mpandas._libs.hashtable.PyObjectHashTable.get_item\u001b[0;34m()\u001b[0m\n",
      "\u001b[0;31mKeyError\u001b[0m: 'Latitude and Longitude'",
      "\nThe above exception was the direct cause of the following exception:\n",
      "\u001b[0;31mKeyError\u001b[0m                                  Traceback (most recent call last)",
      "Input \u001b[0;32mIn [76]\u001b[0m, in \u001b[0;36m<cell line: 2>\u001b[0;34m()\u001b[0m\n\u001b[1;32m      1\u001b[0m \u001b[38;5;66;03m#Combining the results into dataframe\u001b[39;00m\n\u001b[0;32m----> 2\u001b[0m submission_df \u001b[38;5;241m=\u001b[39m pd\u001b[38;5;241m.\u001b[39mDataFrame({\u001b[38;5;124m'\u001b[39m\u001b[38;5;124mLatitude and Longitude\u001b[39m\u001b[38;5;124m'\u001b[39m:\u001b[43mtest_file\u001b[49m\u001b[43m[\u001b[49m\u001b[38;5;124;43m'\u001b[39;49m\u001b[38;5;124;43mLatitude and Longitude\u001b[39;49m\u001b[38;5;124;43m'\u001b[39;49m\u001b[43m]\u001b[49m\u001b[38;5;241m.\u001b[39mvalues, \u001b[38;5;124m'\u001b[39m\u001b[38;5;124mClass of Land\u001b[39m\u001b[38;5;124m'\u001b[39m:final_prediction_series\u001b[38;5;241m.\u001b[39mvalues})\n",
      "File \u001b[0;32m~/anaconda3/lib/python3.9/site-packages/pandas/core/frame.py:3505\u001b[0m, in \u001b[0;36mDataFrame.__getitem__\u001b[0;34m(self, key)\u001b[0m\n\u001b[1;32m   3503\u001b[0m \u001b[38;5;28;01mif\u001b[39;00m \u001b[38;5;28mself\u001b[39m\u001b[38;5;241m.\u001b[39mcolumns\u001b[38;5;241m.\u001b[39mnlevels \u001b[38;5;241m>\u001b[39m \u001b[38;5;241m1\u001b[39m:\n\u001b[1;32m   3504\u001b[0m     \u001b[38;5;28;01mreturn\u001b[39;00m \u001b[38;5;28mself\u001b[39m\u001b[38;5;241m.\u001b[39m_getitem_multilevel(key)\n\u001b[0;32m-> 3505\u001b[0m indexer \u001b[38;5;241m=\u001b[39m \u001b[38;5;28;43mself\u001b[39;49m\u001b[38;5;241;43m.\u001b[39;49m\u001b[43mcolumns\u001b[49m\u001b[38;5;241;43m.\u001b[39;49m\u001b[43mget_loc\u001b[49m\u001b[43m(\u001b[49m\u001b[43mkey\u001b[49m\u001b[43m)\u001b[49m\n\u001b[1;32m   3506\u001b[0m \u001b[38;5;28;01mif\u001b[39;00m is_integer(indexer):\n\u001b[1;32m   3507\u001b[0m     indexer \u001b[38;5;241m=\u001b[39m [indexer]\n",
      "File \u001b[0;32m~/anaconda3/lib/python3.9/site-packages/pandas/core/indexes/base.py:3631\u001b[0m, in \u001b[0;36mIndex.get_loc\u001b[0;34m(self, key, method, tolerance)\u001b[0m\n\u001b[1;32m   3629\u001b[0m     \u001b[38;5;28;01mreturn\u001b[39;00m \u001b[38;5;28mself\u001b[39m\u001b[38;5;241m.\u001b[39m_engine\u001b[38;5;241m.\u001b[39mget_loc(casted_key)\n\u001b[1;32m   3630\u001b[0m \u001b[38;5;28;01mexcept\u001b[39;00m \u001b[38;5;167;01mKeyError\u001b[39;00m \u001b[38;5;28;01mas\u001b[39;00m err:\n\u001b[0;32m-> 3631\u001b[0m     \u001b[38;5;28;01mraise\u001b[39;00m \u001b[38;5;167;01mKeyError\u001b[39;00m(key) \u001b[38;5;28;01mfrom\u001b[39;00m \u001b[38;5;21;01merr\u001b[39;00m\n\u001b[1;32m   3632\u001b[0m \u001b[38;5;28;01mexcept\u001b[39;00m \u001b[38;5;167;01mTypeError\u001b[39;00m:\n\u001b[1;32m   3633\u001b[0m     \u001b[38;5;66;03m# If we have a listlike key, _check_indexing_error will raise\u001b[39;00m\n\u001b[1;32m   3634\u001b[0m     \u001b[38;5;66;03m#  InvalidIndexError. Otherwise we fall through and re-raise\u001b[39;00m\n\u001b[1;32m   3635\u001b[0m     \u001b[38;5;66;03m#  the TypeError.\u001b[39;00m\n\u001b[1;32m   3636\u001b[0m     \u001b[38;5;28mself\u001b[39m\u001b[38;5;241m.\u001b[39m_check_indexing_error(key)\n",
      "\u001b[0;31mKeyError\u001b[0m: 'Latitude and Longitude'"
     ]
    }
   ],
   "source": [
    "#Combining the results into dataframe\n",
    "submission_df = pd.DataFrame({'Latitude and Longitude':test_file['Latitude and Longitude'].values, 'Class of Land':final_prediction_series.values})"
   ]
  },
  {
   "cell_type": "code",
   "execution_count": 77,
   "id": "1a1a563b-c0ed-4e2c-a7fe-08ad59cf1626",
   "metadata": {},
   "outputs": [
    {
     "ename": "NameError",
     "evalue": "name 'submission_df' is not defined",
     "output_type": "error",
     "traceback": [
      "\u001b[0;31m---------------------------------------------------------------------------\u001b[0m",
      "\u001b[0;31mNameError\u001b[0m                                 Traceback (most recent call last)",
      "Input \u001b[0;32mIn [77]\u001b[0m, in \u001b[0;36m<cell line: 2>\u001b[0;34m()\u001b[0m\n\u001b[1;32m      1\u001b[0m \u001b[38;5;66;03m#Displaying the sample submission dataframe\u001b[39;00m\n\u001b[0;32m----> 2\u001b[0m display(\u001b[43msubmission_df\u001b[49m)\n",
      "\u001b[0;31mNameError\u001b[0m: name 'submission_df' is not defined"
     ]
    }
   ],
   "source": [
    "#Displaying the sample submission dataframe\n",
    "display(submission_df)"
   ]
  },
  {
   "cell_type": "code",
   "execution_count": 78,
   "id": "2fcec864-4da3-41e7-80da-b77e42a9d810",
   "metadata": {},
   "outputs": [
    {
     "ename": "NameError",
     "evalue": "name 'submission_df' is not defined",
     "output_type": "error",
     "traceback": [
      "\u001b[0;31m---------------------------------------------------------------------------\u001b[0m",
      "\u001b[0;31mNameError\u001b[0m                                 Traceback (most recent call last)",
      "Input \u001b[0;32mIn [78]\u001b[0m, in \u001b[0;36m<cell line: 2>\u001b[0;34m()\u001b[0m\n\u001b[1;32m      1\u001b[0m \u001b[38;5;66;03m#Dumping the predictions into a csv file.\u001b[39;00m\n\u001b[0;32m----> 2\u001b[0m \u001b[43msubmission_df\u001b[49m\u001b[38;5;241m.\u001b[39mto_csv(\u001b[38;5;124m\"\u001b[39m\u001b[38;5;124mchallenge_1_submission_rice_crop_prediction.csv\u001b[39m\u001b[38;5;124m\"\u001b[39m,index \u001b[38;5;241m=\u001b[39m \u001b[38;5;28;01mFalse\u001b[39;00m)\n",
      "\u001b[0;31mNameError\u001b[0m: name 'submission_df' is not defined"
     ]
    }
   ],
   "source": [
    "#Dumping the predictions into a csv file.\n",
    "submission_df.to_csv(\"challenge_1_submission_rice_crop_prediction.csv\",index = False)"
   ]
  },
  {
   "cell_type": "markdown",
   "id": "094c2fba-5ecb-4ea5-a4a5-1fd6a74952cc",
   "metadata": {},
   "source": [
    "## Conclusion"
   ]
  },
  {
   "cell_type": "markdown",
   "id": "10632df0-a001-4932-8ef9-c7dc9023cc7f",
   "metadata": {},
   "source": [
    "Now that you have learned a basic approach to model training, it’s time to try your own approach! Feel free to modify any of the functions presented in this notebook. We look forward to seeing your version of the model and the results. Best of luck with the challenge!"
   ]
  },
  {
   "cell_type": "code",
   "execution_count": null,
   "id": "a7a97c92-ecd8-45c1-82ce-72606f2c2ac2",
   "metadata": {},
   "outputs": [],
   "source": []
  },
  {
   "cell_type": "code",
   "execution_count": null,
   "id": "476a946a-4856-488c-8b53-bb58511d4bcc",
   "metadata": {},
   "outputs": [],
   "source": []
  },
  {
   "cell_type": "code",
   "execution_count": null,
   "id": "04ae8844-1d1e-4ae1-82ad-9dba368f51c2",
   "metadata": {},
   "outputs": [],
   "source": []
  },
  {
   "cell_type": "code",
   "execution_count": null,
   "id": "5ef40cc4-3a8d-451e-84b5-50c9354de073",
   "metadata": {},
   "outputs": [],
   "source": []
  },
  {
   "cell_type": "code",
   "execution_count": null,
   "id": "987c63f7-5f9e-48a5-99a7-ae0df9802fff",
   "metadata": {},
   "outputs": [],
   "source": []
  },
  {
   "cell_type": "code",
   "execution_count": null,
   "id": "82350f18-ea2d-4f92-92ea-b46efa6697c6",
   "metadata": {},
   "outputs": [],
   "source": []
  },
  {
   "cell_type": "code",
   "execution_count": null,
   "id": "5f6e64a4-4597-47ca-aca0-70486883d444",
   "metadata": {},
   "outputs": [],
   "source": []
  },
  {
   "cell_type": "code",
   "execution_count": null,
   "id": "0f62dcc5-154c-4aa1-b22e-5b15384045cc",
   "metadata": {},
   "outputs": [],
   "source": []
  },
  {
   "cell_type": "code",
   "execution_count": null,
   "id": "4bb8ba7d-390e-4d27-bac5-781106c8d59b",
   "metadata": {},
   "outputs": [],
   "source": []
  },
  {
   "cell_type": "code",
   "execution_count": null,
   "id": "5cc064da-1b47-414c-87c5-c2270311d11f",
   "metadata": {},
   "outputs": [],
   "source": []
  },
  {
   "cell_type": "code",
   "execution_count": null,
   "id": "b357431d-fcb5-4426-8bea-b1adf48c5410",
   "metadata": {},
   "outputs": [],
   "source": []
  },
  {
   "cell_type": "code",
   "execution_count": null,
   "id": "668d75ac-dc71-4466-8b66-88d8c5dd8e4e",
   "metadata": {},
   "outputs": [],
   "source": []
  },
  {
   "cell_type": "code",
   "execution_count": null,
   "id": "e01acba0-fc91-4397-b4c1-f0c632688163",
   "metadata": {},
   "outputs": [],
   "source": []
  },
  {
   "cell_type": "code",
   "execution_count": null,
   "id": "c683dcca-ce1b-4fd5-aa4b-c099aa2846aa",
   "metadata": {},
   "outputs": [],
   "source": []
  },
  {
   "cell_type": "code",
   "execution_count": null,
   "id": "b50979f1-9f5e-49b0-a246-9cb72f0823cc",
   "metadata": {},
   "outputs": [],
   "source": []
  },
  {
   "cell_type": "code",
   "execution_count": null,
   "id": "e99e41ab-40ca-4d10-a9ba-bc34d34a39cb",
   "metadata": {},
   "outputs": [],
   "source": []
  },
  {
   "cell_type": "code",
   "execution_count": null,
   "id": "7e3cf25e-c14a-4c63-b073-6acd005e6158",
   "metadata": {},
   "outputs": [],
   "source": []
  }
 ],
 "metadata": {
  "kernelspec": {
   "display_name": "Python 3 (ipykernel)",
   "language": "python",
   "name": "python3"
  },
  "language_info": {
   "codemirror_mode": {
    "name": "ipython",
    "version": 3
   },
   "file_extension": ".py",
   "mimetype": "text/x-python",
   "name": "python",
   "nbconvert_exporter": "python",
   "pygments_lexer": "ipython3",
   "version": "3.9.13"
  }
 },
 "nbformat": 4,
 "nbformat_minor": 5
}
